{
  "nbformat": 4,
  "nbformat_minor": 0,
  "metadata": {
    "colab": {
      "provenance": [],
      "authorship_tag": "ABX9TyPCP8+c9ryecDK8+2kjZVe6",
      "include_colab_link": true
    },
    "kernelspec": {
      "name": "python3",
      "display_name": "Python 3"
    },
    "language_info": {
      "name": "python"
    }
  },
  "cells": [
    {
      "cell_type": "markdown",
      "metadata": {
        "id": "view-in-github",
        "colab_type": "text"
      },
      "source": [
        "<a href=\"https://colab.research.google.com/github/Pki03/Stock_price_predictor/blob/main/fin3_final.ipynb\" target=\"_parent\"><img src=\"https://colab.research.google.com/assets/colab-badge.svg\" alt=\"Open In Colab\"/></a>"
      ]
    },
    {
      "cell_type": "markdown",
      "source": [
        "# **Step 1: Install Required Libraries**"
      ],
      "metadata": {
        "id": "OLOxpqmDSMKO"
      }
    },
    {
      "cell_type": "code",
      "execution_count": 61,
      "metadata": {
        "colab": {
          "base_uri": "https://localhost:8080/"
        },
        "id": "jzG6ZEk3Fp52",
        "outputId": "abd9143c-7efb-4cd8-fca6-360ac138cc83"
      },
      "outputs": [
        {
          "output_type": "stream",
          "name": "stdout",
          "text": [
            "Requirement already satisfied: numpy in /usr/local/lib/python3.10/dist-packages (1.25.2)\n",
            "Requirement already satisfied: scipy in /usr/local/lib/python3.10/dist-packages (1.11.4)\n",
            "Requirement already satisfied: scikit-learn in /usr/local/lib/python3.10/dist-packages (1.2.2)\n",
            "Requirement already satisfied: keras in /usr/local/lib/python3.10/dist-packages (2.15.0)\n",
            "Requirement already satisfied: tensorflow in /usr/local/lib/python3.10/dist-packages (2.15.0)\n",
            "Requirement already satisfied: matplotlib in /usr/local/lib/python3.10/dist-packages (3.7.1)\n",
            "Requirement already satisfied: pandas in /usr/local/lib/python3.10/dist-packages (2.0.3)\n",
            "Requirement already satisfied: aylien_news_api in /usr/local/lib/python3.10/dist-packages (5.2.3)\n",
            "Requirement already satisfied: nltk in /usr/local/lib/python3.10/dist-packages (3.8.1)\n",
            "Requirement already satisfied: rpy2 in /usr/local/lib/python3.10/dist-packages (3.4.2)\n",
            "Requirement already satisfied: textblob in /usr/local/lib/python3.10/dist-packages (0.17.1)\n",
            "Requirement already satisfied: vaderSentiment in /usr/local/lib/python3.10/dist-packages (3.3.2)\n",
            "Requirement already satisfied: yfinance in /usr/local/lib/python3.10/dist-packages (0.2.40)\n",
            "Requirement already satisfied: requests in /usr/local/lib/python3.10/dist-packages (2.31.0)\n",
            "Requirement already satisfied: plotly in /usr/local/lib/python3.10/dist-packages (5.15.0)\n",
            "Requirement already satisfied: joblib>=1.1.1 in /usr/local/lib/python3.10/dist-packages (from scikit-learn) (1.4.2)\n",
            "Requirement already satisfied: threadpoolctl>=2.0.0 in /usr/local/lib/python3.10/dist-packages (from scikit-learn) (3.5.0)\n",
            "Requirement already satisfied: absl-py>=1.0.0 in /usr/local/lib/python3.10/dist-packages (from tensorflow) (1.4.0)\n",
            "Requirement already satisfied: astunparse>=1.6.0 in /usr/local/lib/python3.10/dist-packages (from tensorflow) (1.6.3)\n",
            "Requirement already satisfied: flatbuffers>=23.5.26 in /usr/local/lib/python3.10/dist-packages (from tensorflow) (24.3.25)\n",
            "Requirement already satisfied: gast!=0.5.0,!=0.5.1,!=0.5.2,>=0.2.1 in /usr/local/lib/python3.10/dist-packages (from tensorflow) (0.6.0)\n",
            "Requirement already satisfied: google-pasta>=0.1.1 in /usr/local/lib/python3.10/dist-packages (from tensorflow) (0.2.0)\n",
            "Requirement already satisfied: h5py>=2.9.0 in /usr/local/lib/python3.10/dist-packages (from tensorflow) (3.9.0)\n",
            "Requirement already satisfied: libclang>=13.0.0 in /usr/local/lib/python3.10/dist-packages (from tensorflow) (18.1.1)\n",
            "Requirement already satisfied: ml-dtypes~=0.2.0 in /usr/local/lib/python3.10/dist-packages (from tensorflow) (0.2.0)\n",
            "Requirement already satisfied: opt-einsum>=2.3.2 in /usr/local/lib/python3.10/dist-packages (from tensorflow) (3.3.0)\n",
            "Requirement already satisfied: packaging in /usr/local/lib/python3.10/dist-packages (from tensorflow) (24.1)\n",
            "Requirement already satisfied: protobuf!=4.21.0,!=4.21.1,!=4.21.2,!=4.21.3,!=4.21.4,!=4.21.5,<5.0.0dev,>=3.20.3 in /usr/local/lib/python3.10/dist-packages (from tensorflow) (3.20.3)\n",
            "Requirement already satisfied: setuptools in /usr/local/lib/python3.10/dist-packages (from tensorflow) (67.7.2)\n",
            "Requirement already satisfied: six>=1.12.0 in /usr/local/lib/python3.10/dist-packages (from tensorflow) (1.16.0)\n",
            "Requirement already satisfied: termcolor>=1.1.0 in /usr/local/lib/python3.10/dist-packages (from tensorflow) (2.4.0)\n",
            "Requirement already satisfied: typing-extensions>=3.6.6 in /usr/local/lib/python3.10/dist-packages (from tensorflow) (4.12.2)\n",
            "Requirement already satisfied: wrapt<1.15,>=1.11.0 in /usr/local/lib/python3.10/dist-packages (from tensorflow) (1.14.1)\n",
            "Requirement already satisfied: tensorflow-io-gcs-filesystem>=0.23.1 in /usr/local/lib/python3.10/dist-packages (from tensorflow) (0.37.1)\n",
            "Requirement already satisfied: grpcio<2.0,>=1.24.3 in /usr/local/lib/python3.10/dist-packages (from tensorflow) (1.64.1)\n",
            "Requirement already satisfied: tensorboard<2.16,>=2.15 in /usr/local/lib/python3.10/dist-packages (from tensorflow) (2.15.2)\n",
            "Requirement already satisfied: tensorflow-estimator<2.16,>=2.15.0 in /usr/local/lib/python3.10/dist-packages (from tensorflow) (2.15.0)\n",
            "Requirement already satisfied: contourpy>=1.0.1 in /usr/local/lib/python3.10/dist-packages (from matplotlib) (1.2.1)\n",
            "Requirement already satisfied: cycler>=0.10 in /usr/local/lib/python3.10/dist-packages (from matplotlib) (0.12.1)\n",
            "Requirement already satisfied: fonttools>=4.22.0 in /usr/local/lib/python3.10/dist-packages (from matplotlib) (4.53.1)\n",
            "Requirement already satisfied: kiwisolver>=1.0.1 in /usr/local/lib/python3.10/dist-packages (from matplotlib) (1.4.5)\n",
            "Requirement already satisfied: pillow>=6.2.0 in /usr/local/lib/python3.10/dist-packages (from matplotlib) (9.4.0)\n",
            "Requirement already satisfied: pyparsing>=2.3.1 in /usr/local/lib/python3.10/dist-packages (from matplotlib) (3.1.2)\n",
            "Requirement already satisfied: python-dateutil>=2.7 in /usr/local/lib/python3.10/dist-packages (from matplotlib) (2.8.2)\n",
            "Requirement already satisfied: pytz>=2020.1 in /usr/local/lib/python3.10/dist-packages (from pandas) (2023.4)\n",
            "Requirement already satisfied: tzdata>=2022.1 in /usr/local/lib/python3.10/dist-packages (from pandas) (2024.1)\n",
            "Requirement already satisfied: urllib3>=1.15 in /usr/local/lib/python3.10/dist-packages (from aylien_news_api) (2.0.7)\n",
            "Requirement already satisfied: certifi in /usr/local/lib/python3.10/dist-packages (from aylien_news_api) (2024.7.4)\n",
            "Requirement already satisfied: click in /usr/local/lib/python3.10/dist-packages (from nltk) (8.1.7)\n",
            "Requirement already satisfied: regex>=2021.8.3 in /usr/local/lib/python3.10/dist-packages (from nltk) (2024.5.15)\n",
            "Requirement already satisfied: tqdm in /usr/local/lib/python3.10/dist-packages (from nltk) (4.66.4)\n",
            "Requirement already satisfied: cffi>=1.10.0 in /usr/local/lib/python3.10/dist-packages (from rpy2) (1.16.0)\n",
            "Requirement already satisfied: jinja2 in /usr/local/lib/python3.10/dist-packages (from rpy2) (3.1.4)\n",
            "Requirement already satisfied: tzlocal in /usr/local/lib/python3.10/dist-packages (from rpy2) (5.2)\n",
            "Requirement already satisfied: multitasking>=0.0.7 in /usr/local/lib/python3.10/dist-packages (from yfinance) (0.0.11)\n",
            "Requirement already satisfied: lxml>=4.9.1 in /usr/local/lib/python3.10/dist-packages (from yfinance) (4.9.4)\n",
            "Requirement already satisfied: platformdirs>=2.0.0 in /usr/local/lib/python3.10/dist-packages (from yfinance) (4.2.2)\n",
            "Requirement already satisfied: frozendict>=2.3.4 in /usr/local/lib/python3.10/dist-packages (from yfinance) (2.4.4)\n",
            "Requirement already satisfied: peewee>=3.16.2 in /usr/local/lib/python3.10/dist-packages (from yfinance) (3.17.6)\n",
            "Requirement already satisfied: beautifulsoup4>=4.11.1 in /usr/local/lib/python3.10/dist-packages (from yfinance) (4.12.3)\n",
            "Requirement already satisfied: html5lib>=1.1 in /usr/local/lib/python3.10/dist-packages (from yfinance) (1.1)\n",
            "Requirement already satisfied: charset-normalizer<4,>=2 in /usr/local/lib/python3.10/dist-packages (from requests) (3.3.2)\n",
            "Requirement already satisfied: idna<4,>=2.5 in /usr/local/lib/python3.10/dist-packages (from requests) (3.7)\n",
            "Requirement already satisfied: tenacity>=6.2.0 in /usr/local/lib/python3.10/dist-packages (from plotly) (8.5.0)\n",
            "Requirement already satisfied: wheel<1.0,>=0.23.0 in /usr/local/lib/python3.10/dist-packages (from astunparse>=1.6.0->tensorflow) (0.43.0)\n",
            "Requirement already satisfied: soupsieve>1.2 in /usr/local/lib/python3.10/dist-packages (from beautifulsoup4>=4.11.1->yfinance) (2.5)\n",
            "Requirement already satisfied: pycparser in /usr/local/lib/python3.10/dist-packages (from cffi>=1.10.0->rpy2) (2.22)\n",
            "Requirement already satisfied: webencodings in /usr/local/lib/python3.10/dist-packages (from html5lib>=1.1->yfinance) (0.5.1)\n",
            "Requirement already satisfied: google-auth<3,>=1.6.3 in /usr/local/lib/python3.10/dist-packages (from tensorboard<2.16,>=2.15->tensorflow) (2.27.0)\n",
            "Requirement already satisfied: google-auth-oauthlib<2,>=0.5 in /usr/local/lib/python3.10/dist-packages (from tensorboard<2.16,>=2.15->tensorflow) (1.2.1)\n",
            "Requirement already satisfied: markdown>=2.6.8 in /usr/local/lib/python3.10/dist-packages (from tensorboard<2.16,>=2.15->tensorflow) (3.6)\n",
            "Requirement already satisfied: tensorboard-data-server<0.8.0,>=0.7.0 in /usr/local/lib/python3.10/dist-packages (from tensorboard<2.16,>=2.15->tensorflow) (0.7.2)\n",
            "Requirement already satisfied: werkzeug>=1.0.1 in /usr/local/lib/python3.10/dist-packages (from tensorboard<2.16,>=2.15->tensorflow) (3.0.3)\n",
            "Requirement already satisfied: MarkupSafe>=2.0 in /usr/local/lib/python3.10/dist-packages (from jinja2->rpy2) (2.1.5)\n",
            "Requirement already satisfied: cachetools<6.0,>=2.0.0 in /usr/local/lib/python3.10/dist-packages (from google-auth<3,>=1.6.3->tensorboard<2.16,>=2.15->tensorflow) (5.3.3)\n",
            "Requirement already satisfied: pyasn1-modules>=0.2.1 in /usr/local/lib/python3.10/dist-packages (from google-auth<3,>=1.6.3->tensorboard<2.16,>=2.15->tensorflow) (0.4.0)\n",
            "Requirement already satisfied: rsa<5,>=3.1.4 in /usr/local/lib/python3.10/dist-packages (from google-auth<3,>=1.6.3->tensorboard<2.16,>=2.15->tensorflow) (4.9)\n",
            "Requirement already satisfied: requests-oauthlib>=0.7.0 in /usr/local/lib/python3.10/dist-packages (from google-auth-oauthlib<2,>=0.5->tensorboard<2.16,>=2.15->tensorflow) (1.3.1)\n",
            "Requirement already satisfied: pyasn1<0.7.0,>=0.4.6 in /usr/local/lib/python3.10/dist-packages (from pyasn1-modules>=0.2.1->google-auth<3,>=1.6.3->tensorboard<2.16,>=2.15->tensorflow) (0.6.0)\n",
            "Requirement already satisfied: oauthlib>=3.0.0 in /usr/local/lib/python3.10/dist-packages (from requests-oauthlib>=0.7.0->google-auth-oauthlib<2,>=0.5->tensorboard<2.16,>=2.15->tensorflow) (3.2.2)\n"
          ]
        }
      ],
      "source": [
        "!pip install numpy scipy scikit-learn keras tensorflow matplotlib pandas aylien_news_api nltk rpy2 textblob vaderSentiment yfinance requests plotly"
      ]
    },
    {
      "cell_type": "markdown",
      "source": [
        "# **Step 2: Import Libraries**"
      ],
      "metadata": {
        "id": "VlmhYMZaSkUG"
      }
    },
    {
      "cell_type": "code",
      "source": [
        "import pandas as pd\n",
        "import numpy as np\n",
        "from sklearn.preprocessing import MinMaxScaler, RobustScaler\n",
        "from sklearn.metrics import mean_squared_error, mean_absolute_error, r2_score\n",
        "from sklearn.linear_model import Lasso, LassoCV, ElasticNet\n",
        "from sklearn.model_selection import cross_val_score, RandomizedSearchCV\n",
        "import yfinance as yf\n",
        "import requests\n",
        "from vaderSentiment.vaderSentiment import SentimentIntensityAnalyzer\n",
        "import plotly.graph_objects as go\n",
        "import matplotlib.pyplot as plt\n"
      ],
      "metadata": {
        "id": "dUy61nfAF6Ex"
      },
      "execution_count": 62,
      "outputs": []
    },
    {
      "cell_type": "markdown",
      "source": [
        "# **Step 3: Download Stock Data Using yfinance**"
      ],
      "metadata": {
        "id": "5_e6aVQESs2U"
      }
    },
    {
      "cell_type": "code",
      "source": [
        "# Example: Download data for Reliance Industries\n",
        "stock_data = yf.download('RELIANCE.NS', start='2023-07-11', end='2024-07-15')\n",
        "stock_data.to_csv('historical_prices.csv')\n"
      ],
      "metadata": {
        "colab": {
          "base_uri": "https://localhost:8080/"
        },
        "id": "s3EsYf_cGCdC",
        "outputId": "8ff21af9-65c0-449d-f6af-18cce63ddc3a"
      },
      "execution_count": 137,
      "outputs": [
        {
          "output_type": "stream",
          "name": "stderr",
          "text": [
            "\r[*********************100%%**********************]  1 of 1 completed\n"
          ]
        }
      ]
    },
    {
      "cell_type": "code",
      "source": [
        "stock_data"
      ],
      "metadata": {
        "colab": {
          "base_uri": "https://localhost:8080/",
          "height": 455
        },
        "id": "1SqaVc8zGJxd",
        "outputId": "8c8fbe0b-8d32-43a3-eab8-bf481bfb8f16"
      },
      "execution_count": 138,
      "outputs": [
        {
          "output_type": "execute_result",
          "data": {
            "text/plain": [
              "                   Open         High          Low        Close    Adj Close  \\\n",
              "Date                                                                          \n",
              "2023-07-11  2540.925781  2556.708984  2526.803955  2551.817139  2542.834717   \n",
              "2023-07-12  2553.293945  2586.245117  2549.001953  2554.632324  2545.639893   \n",
              "2023-07-13  2569.538818  2583.476074  2526.480957  2531.788086  2522.876221   \n",
              "2023-07-14  2538.249023  2548.309814  2515.266357  2529.665283  2520.760742   \n",
              "2023-07-17  2535.480225  2598.290283  2517.943115  2581.353271  2572.266846   \n",
              "...                 ...          ...          ...          ...          ...   \n",
              "2024-07-08  3178.000000  3217.600098  3165.050049  3201.800049  3201.800049   \n",
              "2024-07-09  3195.199951  3201.000000  3161.000000  3180.550049  3180.550049   \n",
              "2024-07-10  3190.000000  3195.000000  3126.300049  3168.449951  3168.449951   \n",
              "2024-07-11  3175.000000  3208.500000  3141.000000  3161.300049  3161.300049   \n",
              "2024-07-12  3169.000000  3210.300049  3149.000000  3193.449951  3193.449951   \n",
              "\n",
              "              Volume  \n",
              "Date                  \n",
              "2023-07-11  10034674  \n",
              "2023-07-12   9366917  \n",
              "2023-07-13   7341467  \n",
              "2023-07-14   7562072  \n",
              "2023-07-17  11110020  \n",
              "...              ...  \n",
              "2024-07-08   4750403  \n",
              "2024-07-09   3480001  \n",
              "2024-07-10   3567289  \n",
              "2024-07-11   5970473  \n",
              "2024-07-12   6462392  \n",
              "\n",
              "[247 rows x 6 columns]"
            ],
            "text/html": [
              "\n",
              "  <div id=\"df-c521156c-42d3-425c-8848-740ee8e507e6\" class=\"colab-df-container\">\n",
              "    <div>\n",
              "<style scoped>\n",
              "    .dataframe tbody tr th:only-of-type {\n",
              "        vertical-align: middle;\n",
              "    }\n",
              "\n",
              "    .dataframe tbody tr th {\n",
              "        vertical-align: top;\n",
              "    }\n",
              "\n",
              "    .dataframe thead th {\n",
              "        text-align: right;\n",
              "    }\n",
              "</style>\n",
              "<table border=\"1\" class=\"dataframe\">\n",
              "  <thead>\n",
              "    <tr style=\"text-align: right;\">\n",
              "      <th></th>\n",
              "      <th>Open</th>\n",
              "      <th>High</th>\n",
              "      <th>Low</th>\n",
              "      <th>Close</th>\n",
              "      <th>Adj Close</th>\n",
              "      <th>Volume</th>\n",
              "    </tr>\n",
              "    <tr>\n",
              "      <th>Date</th>\n",
              "      <th></th>\n",
              "      <th></th>\n",
              "      <th></th>\n",
              "      <th></th>\n",
              "      <th></th>\n",
              "      <th></th>\n",
              "    </tr>\n",
              "  </thead>\n",
              "  <tbody>\n",
              "    <tr>\n",
              "      <th>2023-07-11</th>\n",
              "      <td>2540.925781</td>\n",
              "      <td>2556.708984</td>\n",
              "      <td>2526.803955</td>\n",
              "      <td>2551.817139</td>\n",
              "      <td>2542.834717</td>\n",
              "      <td>10034674</td>\n",
              "    </tr>\n",
              "    <tr>\n",
              "      <th>2023-07-12</th>\n",
              "      <td>2553.293945</td>\n",
              "      <td>2586.245117</td>\n",
              "      <td>2549.001953</td>\n",
              "      <td>2554.632324</td>\n",
              "      <td>2545.639893</td>\n",
              "      <td>9366917</td>\n",
              "    </tr>\n",
              "    <tr>\n",
              "      <th>2023-07-13</th>\n",
              "      <td>2569.538818</td>\n",
              "      <td>2583.476074</td>\n",
              "      <td>2526.480957</td>\n",
              "      <td>2531.788086</td>\n",
              "      <td>2522.876221</td>\n",
              "      <td>7341467</td>\n",
              "    </tr>\n",
              "    <tr>\n",
              "      <th>2023-07-14</th>\n",
              "      <td>2538.249023</td>\n",
              "      <td>2548.309814</td>\n",
              "      <td>2515.266357</td>\n",
              "      <td>2529.665283</td>\n",
              "      <td>2520.760742</td>\n",
              "      <td>7562072</td>\n",
              "    </tr>\n",
              "    <tr>\n",
              "      <th>2023-07-17</th>\n",
              "      <td>2535.480225</td>\n",
              "      <td>2598.290283</td>\n",
              "      <td>2517.943115</td>\n",
              "      <td>2581.353271</td>\n",
              "      <td>2572.266846</td>\n",
              "      <td>11110020</td>\n",
              "    </tr>\n",
              "    <tr>\n",
              "      <th>...</th>\n",
              "      <td>...</td>\n",
              "      <td>...</td>\n",
              "      <td>...</td>\n",
              "      <td>...</td>\n",
              "      <td>...</td>\n",
              "      <td>...</td>\n",
              "    </tr>\n",
              "    <tr>\n",
              "      <th>2024-07-08</th>\n",
              "      <td>3178.000000</td>\n",
              "      <td>3217.600098</td>\n",
              "      <td>3165.050049</td>\n",
              "      <td>3201.800049</td>\n",
              "      <td>3201.800049</td>\n",
              "      <td>4750403</td>\n",
              "    </tr>\n",
              "    <tr>\n",
              "      <th>2024-07-09</th>\n",
              "      <td>3195.199951</td>\n",
              "      <td>3201.000000</td>\n",
              "      <td>3161.000000</td>\n",
              "      <td>3180.550049</td>\n",
              "      <td>3180.550049</td>\n",
              "      <td>3480001</td>\n",
              "    </tr>\n",
              "    <tr>\n",
              "      <th>2024-07-10</th>\n",
              "      <td>3190.000000</td>\n",
              "      <td>3195.000000</td>\n",
              "      <td>3126.300049</td>\n",
              "      <td>3168.449951</td>\n",
              "      <td>3168.449951</td>\n",
              "      <td>3567289</td>\n",
              "    </tr>\n",
              "    <tr>\n",
              "      <th>2024-07-11</th>\n",
              "      <td>3175.000000</td>\n",
              "      <td>3208.500000</td>\n",
              "      <td>3141.000000</td>\n",
              "      <td>3161.300049</td>\n",
              "      <td>3161.300049</td>\n",
              "      <td>5970473</td>\n",
              "    </tr>\n",
              "    <tr>\n",
              "      <th>2024-07-12</th>\n",
              "      <td>3169.000000</td>\n",
              "      <td>3210.300049</td>\n",
              "      <td>3149.000000</td>\n",
              "      <td>3193.449951</td>\n",
              "      <td>3193.449951</td>\n",
              "      <td>6462392</td>\n",
              "    </tr>\n",
              "  </tbody>\n",
              "</table>\n",
              "<p>247 rows × 6 columns</p>\n",
              "</div>\n",
              "    <div class=\"colab-df-buttons\">\n",
              "\n",
              "  <div class=\"colab-df-container\">\n",
              "    <button class=\"colab-df-convert\" onclick=\"convertToInteractive('df-c521156c-42d3-425c-8848-740ee8e507e6')\"\n",
              "            title=\"Convert this dataframe to an interactive table.\"\n",
              "            style=\"display:none;\">\n",
              "\n",
              "  <svg xmlns=\"http://www.w3.org/2000/svg\" height=\"24px\" viewBox=\"0 -960 960 960\">\n",
              "    <path d=\"M120-120v-720h720v720H120Zm60-500h600v-160H180v160Zm220 220h160v-160H400v160Zm0 220h160v-160H400v160ZM180-400h160v-160H180v160Zm440 0h160v-160H620v160ZM180-180h160v-160H180v160Zm440 0h160v-160H620v160Z\"/>\n",
              "  </svg>\n",
              "    </button>\n",
              "\n",
              "  <style>\n",
              "    .colab-df-container {\n",
              "      display:flex;\n",
              "      gap: 12px;\n",
              "    }\n",
              "\n",
              "    .colab-df-convert {\n",
              "      background-color: #E8F0FE;\n",
              "      border: none;\n",
              "      border-radius: 50%;\n",
              "      cursor: pointer;\n",
              "      display: none;\n",
              "      fill: #1967D2;\n",
              "      height: 32px;\n",
              "      padding: 0 0 0 0;\n",
              "      width: 32px;\n",
              "    }\n",
              "\n",
              "    .colab-df-convert:hover {\n",
              "      background-color: #E2EBFA;\n",
              "      box-shadow: 0px 1px 2px rgba(60, 64, 67, 0.3), 0px 1px 3px 1px rgba(60, 64, 67, 0.15);\n",
              "      fill: #174EA6;\n",
              "    }\n",
              "\n",
              "    .colab-df-buttons div {\n",
              "      margin-bottom: 4px;\n",
              "    }\n",
              "\n",
              "    [theme=dark] .colab-df-convert {\n",
              "      background-color: #3B4455;\n",
              "      fill: #D2E3FC;\n",
              "    }\n",
              "\n",
              "    [theme=dark] .colab-df-convert:hover {\n",
              "      background-color: #434B5C;\n",
              "      box-shadow: 0px 1px 3px 1px rgba(0, 0, 0, 0.15);\n",
              "      filter: drop-shadow(0px 1px 2px rgba(0, 0, 0, 0.3));\n",
              "      fill: #FFFFFF;\n",
              "    }\n",
              "  </style>\n",
              "\n",
              "    <script>\n",
              "      const buttonEl =\n",
              "        document.querySelector('#df-c521156c-42d3-425c-8848-740ee8e507e6 button.colab-df-convert');\n",
              "      buttonEl.style.display =\n",
              "        google.colab.kernel.accessAllowed ? 'block' : 'none';\n",
              "\n",
              "      async function convertToInteractive(key) {\n",
              "        const element = document.querySelector('#df-c521156c-42d3-425c-8848-740ee8e507e6');\n",
              "        const dataTable =\n",
              "          await google.colab.kernel.invokeFunction('convertToInteractive',\n",
              "                                                    [key], {});\n",
              "        if (!dataTable) return;\n",
              "\n",
              "        const docLinkHtml = 'Like what you see? Visit the ' +\n",
              "          '<a target=\"_blank\" href=https://colab.research.google.com/notebooks/data_table.ipynb>data table notebook</a>'\n",
              "          + ' to learn more about interactive tables.';\n",
              "        element.innerHTML = '';\n",
              "        dataTable['output_type'] = 'display_data';\n",
              "        await google.colab.output.renderOutput(dataTable, element);\n",
              "        const docLink = document.createElement('div');\n",
              "        docLink.innerHTML = docLinkHtml;\n",
              "        element.appendChild(docLink);\n",
              "      }\n",
              "    </script>\n",
              "  </div>\n",
              "\n",
              "\n",
              "<div id=\"df-1484b38c-a51b-4515-bbb1-168f446d161e\">\n",
              "  <button class=\"colab-df-quickchart\" onclick=\"quickchart('df-1484b38c-a51b-4515-bbb1-168f446d161e')\"\n",
              "            title=\"Suggest charts\"\n",
              "            style=\"display:none;\">\n",
              "\n",
              "<svg xmlns=\"http://www.w3.org/2000/svg\" height=\"24px\"viewBox=\"0 0 24 24\"\n",
              "     width=\"24px\">\n",
              "    <g>\n",
              "        <path d=\"M19 3H5c-1.1 0-2 .9-2 2v14c0 1.1.9 2 2 2h14c1.1 0 2-.9 2-2V5c0-1.1-.9-2-2-2zM9 17H7v-7h2v7zm4 0h-2V7h2v10zm4 0h-2v-4h2v4z\"/>\n",
              "    </g>\n",
              "</svg>\n",
              "  </button>\n",
              "\n",
              "<style>\n",
              "  .colab-df-quickchart {\n",
              "      --bg-color: #E8F0FE;\n",
              "      --fill-color: #1967D2;\n",
              "      --hover-bg-color: #E2EBFA;\n",
              "      --hover-fill-color: #174EA6;\n",
              "      --disabled-fill-color: #AAA;\n",
              "      --disabled-bg-color: #DDD;\n",
              "  }\n",
              "\n",
              "  [theme=dark] .colab-df-quickchart {\n",
              "      --bg-color: #3B4455;\n",
              "      --fill-color: #D2E3FC;\n",
              "      --hover-bg-color: #434B5C;\n",
              "      --hover-fill-color: #FFFFFF;\n",
              "      --disabled-bg-color: #3B4455;\n",
              "      --disabled-fill-color: #666;\n",
              "  }\n",
              "\n",
              "  .colab-df-quickchart {\n",
              "    background-color: var(--bg-color);\n",
              "    border: none;\n",
              "    border-radius: 50%;\n",
              "    cursor: pointer;\n",
              "    display: none;\n",
              "    fill: var(--fill-color);\n",
              "    height: 32px;\n",
              "    padding: 0;\n",
              "    width: 32px;\n",
              "  }\n",
              "\n",
              "  .colab-df-quickchart:hover {\n",
              "    background-color: var(--hover-bg-color);\n",
              "    box-shadow: 0 1px 2px rgba(60, 64, 67, 0.3), 0 1px 3px 1px rgba(60, 64, 67, 0.15);\n",
              "    fill: var(--button-hover-fill-color);\n",
              "  }\n",
              "\n",
              "  .colab-df-quickchart-complete:disabled,\n",
              "  .colab-df-quickchart-complete:disabled:hover {\n",
              "    background-color: var(--disabled-bg-color);\n",
              "    fill: var(--disabled-fill-color);\n",
              "    box-shadow: none;\n",
              "  }\n",
              "\n",
              "  .colab-df-spinner {\n",
              "    border: 2px solid var(--fill-color);\n",
              "    border-color: transparent;\n",
              "    border-bottom-color: var(--fill-color);\n",
              "    animation:\n",
              "      spin 1s steps(1) infinite;\n",
              "  }\n",
              "\n",
              "  @keyframes spin {\n",
              "    0% {\n",
              "      border-color: transparent;\n",
              "      border-bottom-color: var(--fill-color);\n",
              "      border-left-color: var(--fill-color);\n",
              "    }\n",
              "    20% {\n",
              "      border-color: transparent;\n",
              "      border-left-color: var(--fill-color);\n",
              "      border-top-color: var(--fill-color);\n",
              "    }\n",
              "    30% {\n",
              "      border-color: transparent;\n",
              "      border-left-color: var(--fill-color);\n",
              "      border-top-color: var(--fill-color);\n",
              "      border-right-color: var(--fill-color);\n",
              "    }\n",
              "    40% {\n",
              "      border-color: transparent;\n",
              "      border-right-color: var(--fill-color);\n",
              "      border-top-color: var(--fill-color);\n",
              "    }\n",
              "    60% {\n",
              "      border-color: transparent;\n",
              "      border-right-color: var(--fill-color);\n",
              "    }\n",
              "    80% {\n",
              "      border-color: transparent;\n",
              "      border-right-color: var(--fill-color);\n",
              "      border-bottom-color: var(--fill-color);\n",
              "    }\n",
              "    90% {\n",
              "      border-color: transparent;\n",
              "      border-bottom-color: var(--fill-color);\n",
              "    }\n",
              "  }\n",
              "</style>\n",
              "\n",
              "  <script>\n",
              "    async function quickchart(key) {\n",
              "      const quickchartButtonEl =\n",
              "        document.querySelector('#' + key + ' button');\n",
              "      quickchartButtonEl.disabled = true;  // To prevent multiple clicks.\n",
              "      quickchartButtonEl.classList.add('colab-df-spinner');\n",
              "      try {\n",
              "        const charts = await google.colab.kernel.invokeFunction(\n",
              "            'suggestCharts', [key], {});\n",
              "      } catch (error) {\n",
              "        console.error('Error during call to suggestCharts:', error);\n",
              "      }\n",
              "      quickchartButtonEl.classList.remove('colab-df-spinner');\n",
              "      quickchartButtonEl.classList.add('colab-df-quickchart-complete');\n",
              "    }\n",
              "    (() => {\n",
              "      let quickchartButtonEl =\n",
              "        document.querySelector('#df-1484b38c-a51b-4515-bbb1-168f446d161e button');\n",
              "      quickchartButtonEl.style.display =\n",
              "        google.colab.kernel.accessAllowed ? 'block' : 'none';\n",
              "    })();\n",
              "  </script>\n",
              "</div>\n",
              "\n",
              "  <div id=\"id_9066214e-3bdb-40a4-8e1f-b01c4e44773c\">\n",
              "    <style>\n",
              "      .colab-df-generate {\n",
              "        background-color: #E8F0FE;\n",
              "        border: none;\n",
              "        border-radius: 50%;\n",
              "        cursor: pointer;\n",
              "        display: none;\n",
              "        fill: #1967D2;\n",
              "        height: 32px;\n",
              "        padding: 0 0 0 0;\n",
              "        width: 32px;\n",
              "      }\n",
              "\n",
              "      .colab-df-generate:hover {\n",
              "        background-color: #E2EBFA;\n",
              "        box-shadow: 0px 1px 2px rgba(60, 64, 67, 0.3), 0px 1px 3px 1px rgba(60, 64, 67, 0.15);\n",
              "        fill: #174EA6;\n",
              "      }\n",
              "\n",
              "      [theme=dark] .colab-df-generate {\n",
              "        background-color: #3B4455;\n",
              "        fill: #D2E3FC;\n",
              "      }\n",
              "\n",
              "      [theme=dark] .colab-df-generate:hover {\n",
              "        background-color: #434B5C;\n",
              "        box-shadow: 0px 1px 3px 1px rgba(0, 0, 0, 0.15);\n",
              "        filter: drop-shadow(0px 1px 2px rgba(0, 0, 0, 0.3));\n",
              "        fill: #FFFFFF;\n",
              "      }\n",
              "    </style>\n",
              "    <button class=\"colab-df-generate\" onclick=\"generateWithVariable('stock_data')\"\n",
              "            title=\"Generate code using this dataframe.\"\n",
              "            style=\"display:none;\">\n",
              "\n",
              "  <svg xmlns=\"http://www.w3.org/2000/svg\" height=\"24px\"viewBox=\"0 0 24 24\"\n",
              "       width=\"24px\">\n",
              "    <path d=\"M7,19H8.4L18.45,9,17,7.55,7,17.6ZM5,21V16.75L18.45,3.32a2,2,0,0,1,2.83,0l1.4,1.43a1.91,1.91,0,0,1,.58,1.4,1.91,1.91,0,0,1-.58,1.4L9.25,21ZM18.45,9,17,7.55Zm-12,3A5.31,5.31,0,0,0,4.9,8.1,5.31,5.31,0,0,0,1,6.5,5.31,5.31,0,0,0,4.9,4.9,5.31,5.31,0,0,0,6.5,1,5.31,5.31,0,0,0,8.1,4.9,5.31,5.31,0,0,0,12,6.5,5.46,5.46,0,0,0,6.5,12Z\"/>\n",
              "  </svg>\n",
              "    </button>\n",
              "    <script>\n",
              "      (() => {\n",
              "      const buttonEl =\n",
              "        document.querySelector('#id_9066214e-3bdb-40a4-8e1f-b01c4e44773c button.colab-df-generate');\n",
              "      buttonEl.style.display =\n",
              "        google.colab.kernel.accessAllowed ? 'block' : 'none';\n",
              "\n",
              "      buttonEl.onclick = () => {\n",
              "        google.colab.notebook.generateWithVariable('stock_data');\n",
              "      }\n",
              "      })();\n",
              "    </script>\n",
              "  </div>\n",
              "\n",
              "    </div>\n",
              "  </div>\n"
            ],
            "application/vnd.google.colaboratory.intrinsic+json": {
              "type": "dataframe",
              "variable_name": "stock_data",
              "summary": "{\n  \"name\": \"stock_data\",\n  \"rows\": 247,\n  \"fields\": [\n    {\n      \"column\": \"Date\",\n      \"properties\": {\n        \"dtype\": \"date\",\n        \"min\": \"2023-07-11 00:00:00\",\n        \"max\": \"2024-07-12 00:00:00\",\n        \"num_unique_values\": 247,\n        \"samples\": [\n          \"2023-08-28 00:00:00\",\n          \"2023-07-19 00:00:00\",\n          \"2024-04-05 00:00:00\"\n        ],\n        \"semantic_type\": \"\",\n        \"description\": \"\"\n      }\n    },\n    {\n      \"column\": \"Open\",\n      \"properties\": {\n        \"dtype\": \"number\",\n        \"std\": 258.881940338076,\n        \"min\": 2240.0,\n        \"max\": 3195.199951171875,\n        \"num_unique_values\": 229,\n        \"samples\": [\n          2892.10009765625,\n          2356.0,\n          2481.0\n        ],\n        \"semantic_type\": \"\",\n        \"description\": \"\"\n      }\n    },\n    {\n      \"column\": \"High\",\n      \"properties\": {\n        \"dtype\": \"number\",\n        \"std\": 264.8841756784884,\n        \"min\": 2258.0,\n        \"max\": 3217.60009765625,\n        \"num_unique_values\": 244,\n        \"samples\": [\n          2582.300048828125,\n          2636.087158203125,\n          2995.10009765625\n        ],\n        \"semantic_type\": \"\",\n        \"description\": \"\"\n      }\n    },\n    {\n      \"column\": \"Low\",\n      \"properties\": {\n        \"dtype\": \"number\",\n        \"std\": 253.95240712296882,\n        \"min\": 2220.300048828125,\n        \"max\": 3165.050048828125,\n        \"num_unique_values\": 240,\n        \"samples\": [\n          2525.0,\n          2581.630126953125,\n          2391.050048828125\n        ],\n        \"semantic_type\": \"\",\n        \"description\": \"\"\n      }\n    },\n    {\n      \"column\": \"Close\",\n      \"properties\": {\n        \"dtype\": \"number\",\n        \"std\": 260.5383328495909,\n        \"min\": 2226.5,\n        \"max\": 3201.800048828125,\n        \"num_unique_values\": 246,\n        \"samples\": [\n          2443.75,\n          2623.026611328125,\n          2920.199951171875\n        ],\n        \"semantic_type\": \"\",\n        \"description\": \"\"\n      }\n    },\n    {\n      \"column\": \"Adj Close\",\n      \"properties\": {\n        \"dtype\": \"number\",\n        \"std\": 261.09768658999906,\n        \"min\": 2226.5,\n        \"max\": 3201.800048828125,\n        \"num_unique_values\": 246,\n        \"samples\": [\n          2443.75,\n          2613.79345703125,\n          2920.199951171875\n        ],\n        \"semantic_type\": \"\",\n        \"description\": \"\"\n      }\n    },\n    {\n      \"column\": \"Volume\",\n      \"properties\": {\n        \"dtype\": \"number\",\n        \"std\": 3325326,\n        \"min\": 1927405,\n        \"max\": 28540942,\n        \"num_unique_values\": 247,\n        \"samples\": [\n          6290413,\n          19561078,\n          3721149\n        ],\n        \"semantic_type\": \"\",\n        \"description\": \"\"\n      }\n    }\n  ]\n}"
            }
          },
          "metadata": {},
          "execution_count": 138
        }
      ]
    },
    {
      "cell_type": "markdown",
      "source": [
        "# **Step 4: Fetch Sentiment Data from GDELT API**"
      ],
      "metadata": {
        "id": "zNuP5H2KTKc0"
      }
    },
    {
      "cell_type": "code",
      "source": [
        "# Define the API endpoint\n",
        "url = 'http://api.gdeltproject.org/api/v2/doc/doc'\n",
        "params = {\n",
        "    'query': 'Reliance Industries',\n",
        "    'mode': 'ArtList',\n",
        "    'maxrecords': '250',\n",
        "    'format': 'json'\n",
        "}\n",
        "\n",
        "# Fetch the data from GDELT API\n",
        "response = requests.get(url, params=params)\n",
        "if response.status_code == 200:\n",
        "    data = response.json()\n",
        "    articles = data.get('articles', [])\n",
        "    news_data = pd.DataFrame(articles)\n",
        "    if not news_data.empty:\n",
        "        # Extract the date from the 'seendate' or any appropriate field\n",
        "        news_data['Date'] = pd.to_datetime(news_data['seendate']).dt.date\n",
        "        analyzer = SentimentIntensityAnalyzer()\n",
        "        def analyze_sentiment(text):\n",
        "            return analyzer.polarity_scores(text)\n",
        "        news_data['Sentiment'] = news_data['title'].apply(analyze_sentiment)\n",
        "        sentiment_df = news_data['Sentiment'].apply(pd.Series)\n",
        "        news_data = pd.concat([news_data, sentiment_df], axis=1)\n",
        "        news_data.to_csv('sentiment_data.csv', index=False)\n",
        "    else:\n",
        "        print(\"No articles found.\")\n",
        "else:\n",
        "    print(f\"Failed to fetch data: {response.status_code}\")\n"
      ],
      "metadata": {
        "id": "Sx3NHR58GLjK"
      },
      "execution_count": 124,
      "outputs": []
    },
    {
      "cell_type": "markdown",
      "source": [
        "# **Step 5: Load and Merge Data**"
      ],
      "metadata": {
        "id": "nrkHpKU9TaDV"
      }
    },
    {
      "cell_type": "code",
      "source": [
        "# Load historical stock prices\n",
        "prices_df = pd.read_csv('historical_prices.csv', parse_dates=['Date'])\n",
        "prices_df.set_index('Date', inplace=True)\n",
        "\n",
        "# Load sentiment data\n",
        "sentiment_df = pd.read_csv('sentiment_data.csv', parse_dates=['Date'])\n",
        "sentiment_df.set_index('Date', inplace=True)\n",
        "\n",
        "# Merge data on date\n",
        "data = prices_df.merge(sentiment_df, how='inner', left_index=True, right_index=True)\n"
      ],
      "metadata": {
        "id": "XLY4a6ZjGShH"
      },
      "execution_count": 125,
      "outputs": []
    },
    {
      "cell_type": "markdown",
      "source": [
        "# **Step 6: Feature Scaling**"
      ],
      "metadata": {
        "id": "d40cYcF3Te5O"
      }
    },
    {
      "cell_type": "code",
      "source": [
        "# Ensure you only select numeric columns for scaling\n",
        "numeric_columns = data.select_dtypes(include=[np.number]).columns\n",
        "numeric_data = data[numeric_columns]\n",
        "\n",
        "# Feature Scaling\n",
        "scaler = MinMaxScaler(feature_range=(0, 1))\n",
        "scaled_data = scaler.fit_transform(numeric_data)\n",
        "\n",
        "# Prepare the training and testing datasets\n",
        "train_size = int(len(scaled_data) * 0.8)\n",
        "train_data, test_data = scaled_data[:train_size], scaled_data[train_size:]\n"
      ],
      "metadata": {
        "id": "YSSmAoHgGgQc"
      },
      "execution_count": 126,
      "outputs": []
    },
    {
      "cell_type": "markdown",
      "source": [
        "# **Step 7: Prepare Data for Random Forest and Lasso**"
      ],
      "metadata": {
        "id": "BLzIB4M0Tpy2"
      }
    },
    {
      "cell_type": "code",
      "source": [
        "# Prepare features and target for Random Forest\n",
        "X_rf = numeric_data.drop(columns=['Close'])\n",
        "y_rf = numeric_data['Close']\n",
        "\n",
        "# Train-test split\n",
        "train_size = int(len(numeric_data) * 0.8)\n",
        "X_rf_train, X_rf_test = X_rf[:train_size], X_rf[train_size:]\n",
        "y_rf_train, y_rf_test = y_rf[:train_size], y_rf[train_size:]\n"
      ],
      "metadata": {
        "id": "OlwbfL6XGmzG"
      },
      "execution_count": 127,
      "outputs": []
    },
    {
      "cell_type": "markdown",
      "source": [
        "# **Step 8: Train and Evaluate Cross-Validated Lasso Model**"
      ],
      "metadata": {
        "id": "LVObvDiETuoC"
      }
    },
    {
      "cell_type": "code",
      "source": [
        "from sklearn.linear_model import LassoCV\n",
        "\n",
        "# Define the model with cross-validated Lasso\n",
        "lasso_cv_model = LassoCV(alphas=np.logspace(-4, 0, 50), cv=5)\n",
        "\n",
        "# Fit the model\n",
        "lasso_cv_model.fit(X_rf_train, y_rf_train)\n",
        "\n",
        "# Predicting\n",
        "lasso_cv_train_predict = lasso_cv_model.predict(X_rf_train)\n",
        "lasso_cv_test_predict = lasso_cv_model.predict(X_rf_test)\n",
        "\n",
        "# Calculate RMSE\n",
        "lasso_cv_train_rmse = np.sqrt(mean_squared_error(y_rf_train, lasso_cv_train_predict))\n",
        "lasso_cv_test_rmse = np.sqrt(mean_squared_error(y_rf_test, lasso_cv_test_predict))\n",
        "lasso_cv_train_mae = mean_absolute_error(y_rf_train, lasso_cv_train_predict)\n",
        "lasso_cv_test_mae = mean_absolute_error(y_rf_test, lasso_cv_test_predict)\n",
        "lasso_cv_train_r2 = r2_score(y_rf_train, lasso_cv_train_predict)\n",
        "lasso_cv_test_r2 = r2_score(y_rf_test, lasso_cv_test_predict)\n",
        "print(f'Cross-Validated Lasso Train RMSE: {lasso_cv_train_rmse}')\n",
        "print(f'Cross-Validated Lasso Test RMSE: {lasso_cv_test_rmse}')\n",
        "print(f'Cross-Validated Lasso Train MAE: {lasso_cv_train_mae}')\n",
        "print(f'Cross-Validated Lasso Test MAE: {lasso_cv_test_mae}')\n",
        "print(f'Cross-Validated Lasso Train R²: {lasso_cv_train_r2}')\n",
        "print(f'Cross-Validated Lasso Test R²: {lasso_cv_test_r2}')\n"
      ],
      "metadata": {
        "colab": {
          "base_uri": "https://localhost:8080/"
        },
        "id": "rxUTWk8FGqwf",
        "outputId": "0b896ce1-1ddf-4cf7-ba2e-be80868b3b78"
      },
      "execution_count": 128,
      "outputs": [
        {
          "output_type": "stream",
          "name": "stdout",
          "text": [
            "Cross-Validated Lasso Train RMSE: 0.004705233561710395\n",
            "Cross-Validated Lasso Test RMSE: 0.007186074785311851\n",
            "Cross-Validated Lasso Train MAE: 0.003567897928656224\n",
            "Cross-Validated Lasso Test MAE: 0.006283782598893594\n",
            "Cross-Validated Lasso Train R²: 0.9999999945535217\n",
            "Cross-Validated Lasso Test R²: 0.9999999299638582\n"
          ]
        }
      ]
    },
    {
      "cell_type": "markdown",
      "source": [
        "# **Step 9: Plot**"
      ],
      "metadata": {
        "id": "f_kp4oFcT3f1"
      }
    },
    {
      "cell_type": "code",
      "source": [
        "import plotly.graph_objects as go\n",
        "from sklearn.linear_model import LassoCV\n",
        "from sklearn.metrics import mean_squared_error\n",
        "import numpy as np\n",
        "\n",
        "# Assuming data, X_rf, y_rf, X_rf_train, X_rf_test, y_rf_train, and y_rf_test are already defined as before\n",
        "\n",
        "# Define the model with cross-validated Lasso\n",
        "lasso_cv_model = LassoCV(alphas=np.logspace(-4, 0, 50), cv=5)\n",
        "\n",
        "# Fit the model\n",
        "lasso_cv_model.fit(X_rf_train, y_rf_train)\n",
        "\n",
        "# Predicting\n",
        "lasso_cv_train_predict = lasso_cv_model.predict(X_rf_train)\n",
        "lasso_cv_test_predict = lasso_cv_model.predict(X_rf_test)\n",
        "\n",
        "# Calculate RMSE\n",
        "lasso_cv_train_rmse = np.sqrt(mean_squared_error(y_rf_train, lasso_cv_train_predict))\n",
        "lasso_cv_test_rmse = np.sqrt(mean_squared_error(y_rf_test, lasso_cv_test_predict))\n",
        "print(f'Cross-Validated Lasso Train RMSE: {lasso_cv_train_rmse}')\n",
        "print(f'Cross-Validated Lasso Test RMSE: {lasso_cv_test_rmse}')\n",
        "\n",
        "# Cross-validation scores\n",
        "cv_scores = cross_val_score(lasso_cv_model, X_rf, y_rf, cv=5, scoring='neg_mean_squared_error')\n",
        "cv_rmse_scores = np.sqrt(-cv_scores)\n",
        "print(f'Cross-Validation RMSE Scores: {cv_rmse_scores}')\n",
        "print(f'Mean Cross-Validation RMSE: {cv_rmse_scores.mean()}')\n",
        "\n",
        "# Plotting with Plotly\n",
        "fig = go.Figure()\n",
        "\n",
        "# Add training actual vs predicted\n",
        "fig.add_trace(go.Scatter(x=y_rf_train.index, y=y_rf_train, mode='lines', name='Actual Train', line=dict(color='blue')))\n",
        "fig.add_trace(go.Scatter(x=y_rf_train.index, y=lasso_cv_train_predict, mode='lines', name='Predicted Train', line=dict(color='red', dash='dash')))\n",
        "\n",
        "# Add test actual vs predicted\n",
        "fig.add_trace(go.Scatter(x=y_rf_test.index, y=y_rf_test, mode='lines', name='Actual Test', line=dict(color='green')))\n",
        "fig.add_trace(go.Scatter(x=y_rf_test.index, y=lasso_cv_test_predict, mode='lines', name='Predicted Test', line=dict(color='orange', dash='dash')))\n",
        "\n",
        "# Update layout\n",
        "fig.update_layout(\n",
        "    title='Actual vs Predicted Close Prices',\n",
        "    xaxis_title='Date',\n",
        "    yaxis_title='Close Price',\n",
        "    legend=dict(x=0, y=1, traceorder='normal'),\n",
        "    height=600,\n",
        "    width=1000\n",
        ")\n",
        "\n",
        "# Show plot\n",
        "fig.show()\n",
        "\n",
        "# Prepare the input data for the next day prediction\n",
        "last_known_data = X_rf.iloc[-1].values.reshape(1, -1)\n",
        "\n",
        "# Predict the next day's price\n",
        "next_day_prediction = lasso_cv_model.predict(last_known_data)\n",
        "\n",
        "# Print the predicted price for the next day\n",
        "print(f'Predicted Close Price for the next day: {next_day_prediction[0]}')\n"
      ],
      "metadata": {
        "colab": {
          "base_uri": "https://localhost:8080/",
          "height": 780
        },
        "id": "AdVqi0oYGusT",
        "outputId": "080cf2b3-0173-4367-c9f2-c596d9ce8f4d"
      },
      "execution_count": 129,
      "outputs": [
        {
          "output_type": "stream",
          "name": "stdout",
          "text": [
            "Cross-Validated Lasso Train RMSE: 0.004705233561710395\n",
            "Cross-Validated Lasso Test RMSE: 0.007186074785311851\n",
            "Cross-Validation RMSE Scores: [0.01591838 0.00471156 0.006366   0.13449359 0.00634814]\n",
            "Mean Cross-Validation RMSE: 0.03356753365610564\n"
          ]
        },
        {
          "output_type": "display_data",
          "data": {
            "text/html": [
              "<html>\n",
              "<head><meta charset=\"utf-8\" /></head>\n",
              "<body>\n",
              "    <div>            <script src=\"https://cdnjs.cloudflare.com/ajax/libs/mathjax/2.7.5/MathJax.js?config=TeX-AMS-MML_SVG\"></script><script type=\"text/javascript\">if (window.MathJax && window.MathJax.Hub && window.MathJax.Hub.Config) {window.MathJax.Hub.Config({SVG: {font: \"STIX-Web\"}});}</script>                <script type=\"text/javascript\">window.PlotlyConfig = {MathJaxConfig: 'local'};</script>\n",
              "        <script charset=\"utf-8\" src=\"https://cdn.plot.ly/plotly-2.24.1.min.js\"></script>                <div id=\"bbab8a31-453d-4c3b-b957-3476e7bf6e14\" class=\"plotly-graph-div\" style=\"height:600px; width:1000px;\"></div>            <script type=\"text/javascript\">                                    window.PLOTLYENV=window.PLOTLYENV || {};                                    if (document.getElementById(\"bbab8a31-453d-4c3b-b957-3476e7bf6e14\")) {                    Plotly.newPlot(                        \"bbab8a31-453d-4c3b-b957-3476e7bf6e14\",                        [{\"line\":{\"color\":\"blue\"},\"mode\":\"lines\",\"name\":\"Actual Train\",\"x\":[\"2024-04-22T00:00:00\",\"2024-04-22T00:00:00\",\"2024-04-22T00:00:00\",\"2024-04-22T00:00:00\",\"2024-04-22T00:00:00\",\"2024-04-22T00:00:00\",\"2024-04-22T00:00:00\",\"2024-04-22T00:00:00\",\"2024-04-22T00:00:00\",\"2024-04-22T00:00:00\",\"2024-04-22T00:00:00\",\"2024-04-22T00:00:00\",\"2024-04-22T00:00:00\",\"2024-04-22T00:00:00\",\"2024-04-22T00:00:00\",\"2024-04-22T00:00:00\",\"2024-04-22T00:00:00\",\"2024-04-22T00:00:00\",\"2024-04-22T00:00:00\",\"2024-04-23T00:00:00\",\"2024-04-23T00:00:00\",\"2024-04-23T00:00:00\",\"2024-04-23T00:00:00\",\"2024-04-23T00:00:00\",\"2024-04-23T00:00:00\",\"2024-04-23T00:00:00\",\"2024-04-23T00:00:00\",\"2024-04-23T00:00:00\",\"2024-04-23T00:00:00\",\"2024-04-23T00:00:00\",\"2024-04-23T00:00:00\",\"2024-04-24T00:00:00\",\"2024-04-24T00:00:00\",\"2024-04-24T00:00:00\",\"2024-04-24T00:00:00\",\"2024-04-24T00:00:00\",\"2024-04-25T00:00:00\",\"2024-04-25T00:00:00\",\"2024-04-26T00:00:00\",\"2024-04-26T00:00:00\",\"2024-04-29T00:00:00\",\"2024-04-29T00:00:00\",\"2024-04-30T00:00:00\",\"2024-04-30T00:00:00\",\"2024-05-02T00:00:00\",\"2024-05-06T00:00:00\",\"2024-05-06T00:00:00\",\"2024-05-06T00:00:00\",\"2024-05-07T00:00:00\",\"2024-05-08T00:00:00\",\"2024-05-08T00:00:00\",\"2024-05-09T00:00:00\",\"2024-05-09T00:00:00\",\"2024-05-13T00:00:00\",\"2024-05-15T00:00:00\",\"2024-05-15T00:00:00\",\"2024-05-15T00:00:00\",\"2024-05-15T00:00:00\",\"2024-05-15T00:00:00\",\"2024-05-16T00:00:00\",\"2024-05-16T00:00:00\",\"2024-05-17T00:00:00\",\"2024-05-21T00:00:00\",\"2024-05-22T00:00:00\",\"2024-05-22T00:00:00\",\"2024-05-22T00:00:00\",\"2024-05-22T00:00:00\",\"2024-05-23T00:00:00\",\"2024-05-24T00:00:00\",\"2024-05-24T00:00:00\",\"2024-05-27T00:00:00\",\"2024-05-27T00:00:00\",\"2024-05-28T00:00:00\",\"2024-05-28T00:00:00\",\"2024-05-28T00:00:00\",\"2024-05-29T00:00:00\",\"2024-05-29T00:00:00\",\"2024-05-29T00:00:00\",\"2024-05-29T00:00:00\",\"2024-05-30T00:00:00\",\"2024-05-30T00:00:00\",\"2024-05-30T00:00:00\",\"2024-05-30T00:00:00\",\"2024-05-30T00:00:00\",\"2024-05-30T00:00:00\",\"2024-05-30T00:00:00\",\"2024-05-30T00:00:00\",\"2024-05-30T00:00:00\",\"2024-05-30T00:00:00\",\"2024-05-31T00:00:00\",\"2024-05-31T00:00:00\",\"2024-05-31T00:00:00\",\"2024-05-31T00:00:00\",\"2024-06-03T00:00:00\",\"2024-06-04T00:00:00\",\"2024-06-04T00:00:00\",\"2024-06-11T00:00:00\",\"2024-06-11T00:00:00\",\"2024-06-11T00:00:00\",\"2024-06-11T00:00:00\",\"2024-06-12T00:00:00\",\"2024-06-13T00:00:00\",\"2024-06-14T00:00:00\",\"2024-06-14T00:00:00\",\"2024-06-18T00:00:00\",\"2024-06-21T00:00:00\",\"2024-06-24T00:00:00\",\"2024-06-24T00:00:00\",\"2024-06-25T00:00:00\",\"2024-06-26T00:00:00\",\"2024-06-26T00:00:00\",\"2024-06-26T00:00:00\",\"2024-06-27T00:00:00\",\"2024-06-27T00:00:00\",\"2024-06-27T00:00:00\",\"2024-06-27T00:00:00\",\"2024-06-27T00:00:00\",\"2024-06-28T00:00:00\"],\"y\":[2959.699951171875,2959.699951171875,2959.699951171875,2959.699951171875,2959.699951171875,2959.699951171875,2959.699951171875,2959.699951171875,2959.699951171875,2959.699951171875,2959.699951171875,2959.699951171875,2959.699951171875,2959.699951171875,2959.699951171875,2959.699951171875,2959.699951171875,2959.699951171875,2959.699951171875,2918.64990234375,2918.64990234375,2918.64990234375,2918.64990234375,2918.64990234375,2918.64990234375,2918.64990234375,2918.64990234375,2918.64990234375,2918.64990234375,2918.64990234375,2918.64990234375,2900.35009765625,2900.35009765625,2900.35009765625,2900.35009765625,2900.35009765625,2919.949951171875,2919.949951171875,2905.10009765625,2905.10009765625,2930.050048828125,2930.050048828125,2934.0,2934.0,2933.10009765625,2839.050048828125,2839.050048828125,2839.050048828125,2802.949951171875,2837.10009765625,2837.10009765625,2788.25,2788.25,2805.39990234375,2832.550048828125,2832.550048828125,2832.550048828125,2832.550048828125,2832.550048828125,2850.699951171875,2850.699951171875,2871.39990234375,2872.25,2921.300048828125,2921.300048828125,2921.300048828125,2921.300048828125,2972.10009765625,2960.5,2960.5,2932.5,2932.5,2912.39990234375,2912.39990234375,2912.39990234375,2881.550048828125,2881.550048828125,2881.550048828125,2881.550048828125,2849.699951171875,2849.699951171875,2849.699951171875,2849.699951171875,2849.699951171875,2849.699951171875,2849.699951171875,2849.699951171875,2849.699951171875,2849.699951171875,2860.800048828125,2860.800048828125,2860.800048828125,2860.800048828125,3020.64990234375,2794.550048828125,2794.550048828125,2913.35009765625,2913.35009765625,2913.35009765625,2913.35009765625,2926.64990234375,2930.5,2955.10009765625,2955.10009765625,2962.050048828125,2908.39990234375,2882.949951171875,2882.949951171875,2908.300048828125,3028.050048828125,3028.050048828125,3028.050048828125,3061.10009765625,3061.10009765625,3061.10009765625,3061.10009765625,3061.10009765625,3130.800048828125],\"type\":\"scatter\"},{\"line\":{\"color\":\"red\",\"dash\":\"dash\"},\"mode\":\"lines\",\"name\":\"Predicted Train\",\"x\":[\"2024-04-22T00:00:00\",\"2024-04-22T00:00:00\",\"2024-04-22T00:00:00\",\"2024-04-22T00:00:00\",\"2024-04-22T00:00:00\",\"2024-04-22T00:00:00\",\"2024-04-22T00:00:00\",\"2024-04-22T00:00:00\",\"2024-04-22T00:00:00\",\"2024-04-22T00:00:00\",\"2024-04-22T00:00:00\",\"2024-04-22T00:00:00\",\"2024-04-22T00:00:00\",\"2024-04-22T00:00:00\",\"2024-04-22T00:00:00\",\"2024-04-22T00:00:00\",\"2024-04-22T00:00:00\",\"2024-04-22T00:00:00\",\"2024-04-22T00:00:00\",\"2024-04-23T00:00:00\",\"2024-04-23T00:00:00\",\"2024-04-23T00:00:00\",\"2024-04-23T00:00:00\",\"2024-04-23T00:00:00\",\"2024-04-23T00:00:00\",\"2024-04-23T00:00:00\",\"2024-04-23T00:00:00\",\"2024-04-23T00:00:00\",\"2024-04-23T00:00:00\",\"2024-04-23T00:00:00\",\"2024-04-23T00:00:00\",\"2024-04-24T00:00:00\",\"2024-04-24T00:00:00\",\"2024-04-24T00:00:00\",\"2024-04-24T00:00:00\",\"2024-04-24T00:00:00\",\"2024-04-25T00:00:00\",\"2024-04-25T00:00:00\",\"2024-04-26T00:00:00\",\"2024-04-26T00:00:00\",\"2024-04-29T00:00:00\",\"2024-04-29T00:00:00\",\"2024-04-30T00:00:00\",\"2024-04-30T00:00:00\",\"2024-05-02T00:00:00\",\"2024-05-06T00:00:00\",\"2024-05-06T00:00:00\",\"2024-05-06T00:00:00\",\"2024-05-07T00:00:00\",\"2024-05-08T00:00:00\",\"2024-05-08T00:00:00\",\"2024-05-09T00:00:00\",\"2024-05-09T00:00:00\",\"2024-05-13T00:00:00\",\"2024-05-15T00:00:00\",\"2024-05-15T00:00:00\",\"2024-05-15T00:00:00\",\"2024-05-15T00:00:00\",\"2024-05-15T00:00:00\",\"2024-05-16T00:00:00\",\"2024-05-16T00:00:00\",\"2024-05-17T00:00:00\",\"2024-05-21T00:00:00\",\"2024-05-22T00:00:00\",\"2024-05-22T00:00:00\",\"2024-05-22T00:00:00\",\"2024-05-22T00:00:00\",\"2024-05-23T00:00:00\",\"2024-05-24T00:00:00\",\"2024-05-24T00:00:00\",\"2024-05-27T00:00:00\",\"2024-05-27T00:00:00\",\"2024-05-28T00:00:00\",\"2024-05-28T00:00:00\",\"2024-05-28T00:00:00\",\"2024-05-29T00:00:00\",\"2024-05-29T00:00:00\",\"2024-05-29T00:00:00\",\"2024-05-29T00:00:00\",\"2024-05-30T00:00:00\",\"2024-05-30T00:00:00\",\"2024-05-30T00:00:00\",\"2024-05-30T00:00:00\",\"2024-05-30T00:00:00\",\"2024-05-30T00:00:00\",\"2024-05-30T00:00:00\",\"2024-05-30T00:00:00\",\"2024-05-30T00:00:00\",\"2024-05-30T00:00:00\",\"2024-05-31T00:00:00\",\"2024-05-31T00:00:00\",\"2024-05-31T00:00:00\",\"2024-05-31T00:00:00\",\"2024-06-03T00:00:00\",\"2024-06-04T00:00:00\",\"2024-06-04T00:00:00\",\"2024-06-11T00:00:00\",\"2024-06-11T00:00:00\",\"2024-06-11T00:00:00\",\"2024-06-11T00:00:00\",\"2024-06-12T00:00:00\",\"2024-06-13T00:00:00\",\"2024-06-14T00:00:00\",\"2024-06-14T00:00:00\",\"2024-06-18T00:00:00\",\"2024-06-21T00:00:00\",\"2024-06-24T00:00:00\",\"2024-06-24T00:00:00\",\"2024-06-25T00:00:00\",\"2024-06-26T00:00:00\",\"2024-06-26T00:00:00\",\"2024-06-26T00:00:00\",\"2024-06-27T00:00:00\",\"2024-06-27T00:00:00\",\"2024-06-27T00:00:00\",\"2024-06-27T00:00:00\",\"2024-06-27T00:00:00\",\"2024-06-28T00:00:00\"],\"y\":[2959.6969418464464,2959.6969418464464,2959.6969418464464,2959.6962722743556,2959.6969418464464,2959.6969418464464,2959.696051060143,2959.6969418464464,2959.696491816158,2959.6969418464464,2959.6962722743556,2959.696491816158,2959.6969418464464,2959.6969418464464,2959.6969026208335,2959.6969418464464,2959.6962722743556,2959.6969418464464,2959.6962722743556,2918.6558455609547,2918.655811808683,2918.6549608561418,2918.6551904324037,2918.656295591243,2918.656295591243,2918.6558455609547,2918.6558455609547,2918.6556260191524,2918.6556260191524,2918.6554260901557,2918.656295591243,2900.350667179292,2900.3511018538175,2900.3528765847477,2900.3517714259083,2900.3528765847477,2919.953787290715,2919.953981898407,2905.0978515050115,2905.0970752027642,2930.04910891696,2930.04910891696,2934.0053924268004,2934.004781389054,2933.100483275995,2839.0494227294184,2839.0493687561916,2839.0506581841896,2802.947450695604,2837.106922346346,2837.1073723766344,2788.254211043973,2788.254211043973,2805.391761954711,2832.5513813127573,2832.5513077267233,2832.5513077267233,2832.5519187644695,2832.5519187644695,2850.6879634716097,2850.6880863177153,2871.393609838734,2872.2524983484695,2921.3028543347023,2921.3028543347023,2921.3028543347023,2921.3028543347023,2972.099452143777,2960.4978444418416,2960.4978444418416,2932.497062932847,2932.4967319477328,2912.4023714907094,2912.4022930394835,2912.4022930394835,2881.553876484574,2881.553876484574,2881.553876484574,2881.553532424256,2849.7001737037376,2849.69942461616,2849.69942461616,2849.7001737037376,2849.7001737037376,2849.7001737037376,2849.7001737037376,2849.69942461616,2849.69942461616,2849.69942461616,2860.8063210156033,2860.806013444227,2860.8055719280255,2860.8055719280255,3020.6372332841024,2794.5341612907864,2794.5350973841933,2913.350480325836,2913.3505149903317,2913.3509303561245,2913.3509303561245,2926.6544837816336,2930.4953016520963,2955.0908334545124,2955.0906432559004,2962.040697514886,2908.3965248598006,2882.948584659379,2882.9477601613203,2908.2974747547155,3028.0510396224417,3028.0508068533973,3028.050431017292,3061.101032488122,3061.101032488122,3061.101032488122,3061.101032488122,3061.1001014119447,3130.8091115367724],\"type\":\"scatter\"},{\"line\":{\"color\":\"green\"},\"mode\":\"lines\",\"name\":\"Actual Test\",\"x\":[\"2024-06-28T00:00:00\",\"2024-06-28T00:00:00\",\"2024-06-28T00:00:00\",\"2024-06-28T00:00:00\",\"2024-06-28T00:00:00\",\"2024-06-28T00:00:00\",\"2024-06-28T00:00:00\",\"2024-06-28T00:00:00\",\"2024-06-28T00:00:00\",\"2024-06-28T00:00:00\",\"2024-06-28T00:00:00\",\"2024-06-28T00:00:00\",\"2024-06-28T00:00:00\",\"2024-06-28T00:00:00\",\"2024-06-28T00:00:00\",\"2024-07-01T00:00:00\",\"2024-07-01T00:00:00\",\"2024-07-01T00:00:00\",\"2024-07-01T00:00:00\",\"2024-07-03T00:00:00\",\"2024-07-03T00:00:00\",\"2024-07-04T00:00:00\",\"2024-07-04T00:00:00\",\"2024-07-05T00:00:00\",\"2024-07-05T00:00:00\",\"2024-07-05T00:00:00\",\"2024-07-05T00:00:00\",\"2024-07-08T00:00:00\",\"2024-07-08T00:00:00\",\"2024-07-09T00:00:00\"],\"y\":[3130.800048828125,3130.800048828125,3130.800048828125,3130.800048828125,3130.800048828125,3130.800048828125,3130.800048828125,3130.800048828125,3130.800048828125,3130.800048828125,3130.800048828125,3130.800048828125,3130.800048828125,3130.800048828125,3130.800048828125,3120.300048828125,3120.300048828125,3120.300048828125,3120.300048828125,3104.85009765625,3104.85009765625,3108.050048828125,3108.050048828125,3177.25,3177.25,3177.25,3177.25,3201.800048828125,3201.800048828125,3180.550048828125],\"type\":\"scatter\"},{\"line\":{\"color\":\"orange\",\"dash\":\"dash\"},\"mode\":\"lines\",\"name\":\"Predicted Test\",\"x\":[\"2024-06-28T00:00:00\",\"2024-06-28T00:00:00\",\"2024-06-28T00:00:00\",\"2024-06-28T00:00:00\",\"2024-06-28T00:00:00\",\"2024-06-28T00:00:00\",\"2024-06-28T00:00:00\",\"2024-06-28T00:00:00\",\"2024-06-28T00:00:00\",\"2024-06-28T00:00:00\",\"2024-06-28T00:00:00\",\"2024-06-28T00:00:00\",\"2024-06-28T00:00:00\",\"2024-06-28T00:00:00\",\"2024-06-28T00:00:00\",\"2024-07-01T00:00:00\",\"2024-07-01T00:00:00\",\"2024-07-01T00:00:00\",\"2024-07-01T00:00:00\",\"2024-07-03T00:00:00\",\"2024-07-03T00:00:00\",\"2024-07-04T00:00:00\",\"2024-07-04T00:00:00\",\"2024-07-05T00:00:00\",\"2024-07-05T00:00:00\",\"2024-07-05T00:00:00\",\"2024-07-05T00:00:00\",\"2024-07-08T00:00:00\",\"2024-07-08T00:00:00\",\"2024-07-09T00:00:00\"],\"y\":[3130.809111536773,3130.8099589924577,3130.8099589924577,3130.8099589924577,3130.808880136064,3130.8089395826323,3130.8099589924577,3130.8089395826323,3130.8089395826323,3130.8094420657753,3130.8099589924577,3130.8093479547115,3130.8093479547115,3130.8099589924577,3130.8099589924577,3120.303054023063,3120.3026080977806,3120.3030877753345,3120.3023269808878,3104.8455545294596,3104.846004559748,3108.0503708272668,3108.0503708272668,3177.247430248649,3177.2479471753313,3177.2479471753313,3177.247336137585,3201.796169152863,3201.7958250925444,3180.541068731507],\"type\":\"scatter\"}],                        {\"template\":{\"data\":{\"histogram2dcontour\":[{\"type\":\"histogram2dcontour\",\"colorbar\":{\"outlinewidth\":0,\"ticks\":\"\"},\"colorscale\":[[0.0,\"#0d0887\"],[0.1111111111111111,\"#46039f\"],[0.2222222222222222,\"#7201a8\"],[0.3333333333333333,\"#9c179e\"],[0.4444444444444444,\"#bd3786\"],[0.5555555555555556,\"#d8576b\"],[0.6666666666666666,\"#ed7953\"],[0.7777777777777778,\"#fb9f3a\"],[0.8888888888888888,\"#fdca26\"],[1.0,\"#f0f921\"]]}],\"choropleth\":[{\"type\":\"choropleth\",\"colorbar\":{\"outlinewidth\":0,\"ticks\":\"\"}}],\"histogram2d\":[{\"type\":\"histogram2d\",\"colorbar\":{\"outlinewidth\":0,\"ticks\":\"\"},\"colorscale\":[[0.0,\"#0d0887\"],[0.1111111111111111,\"#46039f\"],[0.2222222222222222,\"#7201a8\"],[0.3333333333333333,\"#9c179e\"],[0.4444444444444444,\"#bd3786\"],[0.5555555555555556,\"#d8576b\"],[0.6666666666666666,\"#ed7953\"],[0.7777777777777778,\"#fb9f3a\"],[0.8888888888888888,\"#fdca26\"],[1.0,\"#f0f921\"]]}],\"heatmap\":[{\"type\":\"heatmap\",\"colorbar\":{\"outlinewidth\":0,\"ticks\":\"\"},\"colorscale\":[[0.0,\"#0d0887\"],[0.1111111111111111,\"#46039f\"],[0.2222222222222222,\"#7201a8\"],[0.3333333333333333,\"#9c179e\"],[0.4444444444444444,\"#bd3786\"],[0.5555555555555556,\"#d8576b\"],[0.6666666666666666,\"#ed7953\"],[0.7777777777777778,\"#fb9f3a\"],[0.8888888888888888,\"#fdca26\"],[1.0,\"#f0f921\"]]}],\"heatmapgl\":[{\"type\":\"heatmapgl\",\"colorbar\":{\"outlinewidth\":0,\"ticks\":\"\"},\"colorscale\":[[0.0,\"#0d0887\"],[0.1111111111111111,\"#46039f\"],[0.2222222222222222,\"#7201a8\"],[0.3333333333333333,\"#9c179e\"],[0.4444444444444444,\"#bd3786\"],[0.5555555555555556,\"#d8576b\"],[0.6666666666666666,\"#ed7953\"],[0.7777777777777778,\"#fb9f3a\"],[0.8888888888888888,\"#fdca26\"],[1.0,\"#f0f921\"]]}],\"contourcarpet\":[{\"type\":\"contourcarpet\",\"colorbar\":{\"outlinewidth\":0,\"ticks\":\"\"}}],\"contour\":[{\"type\":\"contour\",\"colorbar\":{\"outlinewidth\":0,\"ticks\":\"\"},\"colorscale\":[[0.0,\"#0d0887\"],[0.1111111111111111,\"#46039f\"],[0.2222222222222222,\"#7201a8\"],[0.3333333333333333,\"#9c179e\"],[0.4444444444444444,\"#bd3786\"],[0.5555555555555556,\"#d8576b\"],[0.6666666666666666,\"#ed7953\"],[0.7777777777777778,\"#fb9f3a\"],[0.8888888888888888,\"#fdca26\"],[1.0,\"#f0f921\"]]}],\"surface\":[{\"type\":\"surface\",\"colorbar\":{\"outlinewidth\":0,\"ticks\":\"\"},\"colorscale\":[[0.0,\"#0d0887\"],[0.1111111111111111,\"#46039f\"],[0.2222222222222222,\"#7201a8\"],[0.3333333333333333,\"#9c179e\"],[0.4444444444444444,\"#bd3786\"],[0.5555555555555556,\"#d8576b\"],[0.6666666666666666,\"#ed7953\"],[0.7777777777777778,\"#fb9f3a\"],[0.8888888888888888,\"#fdca26\"],[1.0,\"#f0f921\"]]}],\"mesh3d\":[{\"type\":\"mesh3d\",\"colorbar\":{\"outlinewidth\":0,\"ticks\":\"\"}}],\"scatter\":[{\"fillpattern\":{\"fillmode\":\"overlay\",\"size\":10,\"solidity\":0.2},\"type\":\"scatter\"}],\"parcoords\":[{\"type\":\"parcoords\",\"line\":{\"colorbar\":{\"outlinewidth\":0,\"ticks\":\"\"}}}],\"scatterpolargl\":[{\"type\":\"scatterpolargl\",\"marker\":{\"colorbar\":{\"outlinewidth\":0,\"ticks\":\"\"}}}],\"bar\":[{\"error_x\":{\"color\":\"#2a3f5f\"},\"error_y\":{\"color\":\"#2a3f5f\"},\"marker\":{\"line\":{\"color\":\"#E5ECF6\",\"width\":0.5},\"pattern\":{\"fillmode\":\"overlay\",\"size\":10,\"solidity\":0.2}},\"type\":\"bar\"}],\"scattergeo\":[{\"type\":\"scattergeo\",\"marker\":{\"colorbar\":{\"outlinewidth\":0,\"ticks\":\"\"}}}],\"scatterpolar\":[{\"type\":\"scatterpolar\",\"marker\":{\"colorbar\":{\"outlinewidth\":0,\"ticks\":\"\"}}}],\"histogram\":[{\"marker\":{\"pattern\":{\"fillmode\":\"overlay\",\"size\":10,\"solidity\":0.2}},\"type\":\"histogram\"}],\"scattergl\":[{\"type\":\"scattergl\",\"marker\":{\"colorbar\":{\"outlinewidth\":0,\"ticks\":\"\"}}}],\"scatter3d\":[{\"type\":\"scatter3d\",\"line\":{\"colorbar\":{\"outlinewidth\":0,\"ticks\":\"\"}},\"marker\":{\"colorbar\":{\"outlinewidth\":0,\"ticks\":\"\"}}}],\"scattermapbox\":[{\"type\":\"scattermapbox\",\"marker\":{\"colorbar\":{\"outlinewidth\":0,\"ticks\":\"\"}}}],\"scatterternary\":[{\"type\":\"scatterternary\",\"marker\":{\"colorbar\":{\"outlinewidth\":0,\"ticks\":\"\"}}}],\"scattercarpet\":[{\"type\":\"scattercarpet\",\"marker\":{\"colorbar\":{\"outlinewidth\":0,\"ticks\":\"\"}}}],\"carpet\":[{\"aaxis\":{\"endlinecolor\":\"#2a3f5f\",\"gridcolor\":\"white\",\"linecolor\":\"white\",\"minorgridcolor\":\"white\",\"startlinecolor\":\"#2a3f5f\"},\"baxis\":{\"endlinecolor\":\"#2a3f5f\",\"gridcolor\":\"white\",\"linecolor\":\"white\",\"minorgridcolor\":\"white\",\"startlinecolor\":\"#2a3f5f\"},\"type\":\"carpet\"}],\"table\":[{\"cells\":{\"fill\":{\"color\":\"#EBF0F8\"},\"line\":{\"color\":\"white\"}},\"header\":{\"fill\":{\"color\":\"#C8D4E3\"},\"line\":{\"color\":\"white\"}},\"type\":\"table\"}],\"barpolar\":[{\"marker\":{\"line\":{\"color\":\"#E5ECF6\",\"width\":0.5},\"pattern\":{\"fillmode\":\"overlay\",\"size\":10,\"solidity\":0.2}},\"type\":\"barpolar\"}],\"pie\":[{\"automargin\":true,\"type\":\"pie\"}]},\"layout\":{\"autotypenumbers\":\"strict\",\"colorway\":[\"#636efa\",\"#EF553B\",\"#00cc96\",\"#ab63fa\",\"#FFA15A\",\"#19d3f3\",\"#FF6692\",\"#B6E880\",\"#FF97FF\",\"#FECB52\"],\"font\":{\"color\":\"#2a3f5f\"},\"hovermode\":\"closest\",\"hoverlabel\":{\"align\":\"left\"},\"paper_bgcolor\":\"white\",\"plot_bgcolor\":\"#E5ECF6\",\"polar\":{\"bgcolor\":\"#E5ECF6\",\"angularaxis\":{\"gridcolor\":\"white\",\"linecolor\":\"white\",\"ticks\":\"\"},\"radialaxis\":{\"gridcolor\":\"white\",\"linecolor\":\"white\",\"ticks\":\"\"}},\"ternary\":{\"bgcolor\":\"#E5ECF6\",\"aaxis\":{\"gridcolor\":\"white\",\"linecolor\":\"white\",\"ticks\":\"\"},\"baxis\":{\"gridcolor\":\"white\",\"linecolor\":\"white\",\"ticks\":\"\"},\"caxis\":{\"gridcolor\":\"white\",\"linecolor\":\"white\",\"ticks\":\"\"}},\"coloraxis\":{\"colorbar\":{\"outlinewidth\":0,\"ticks\":\"\"}},\"colorscale\":{\"sequential\":[[0.0,\"#0d0887\"],[0.1111111111111111,\"#46039f\"],[0.2222222222222222,\"#7201a8\"],[0.3333333333333333,\"#9c179e\"],[0.4444444444444444,\"#bd3786\"],[0.5555555555555556,\"#d8576b\"],[0.6666666666666666,\"#ed7953\"],[0.7777777777777778,\"#fb9f3a\"],[0.8888888888888888,\"#fdca26\"],[1.0,\"#f0f921\"]],\"sequentialminus\":[[0.0,\"#0d0887\"],[0.1111111111111111,\"#46039f\"],[0.2222222222222222,\"#7201a8\"],[0.3333333333333333,\"#9c179e\"],[0.4444444444444444,\"#bd3786\"],[0.5555555555555556,\"#d8576b\"],[0.6666666666666666,\"#ed7953\"],[0.7777777777777778,\"#fb9f3a\"],[0.8888888888888888,\"#fdca26\"],[1.0,\"#f0f921\"]],\"diverging\":[[0,\"#8e0152\"],[0.1,\"#c51b7d\"],[0.2,\"#de77ae\"],[0.3,\"#f1b6da\"],[0.4,\"#fde0ef\"],[0.5,\"#f7f7f7\"],[0.6,\"#e6f5d0\"],[0.7,\"#b8e186\"],[0.8,\"#7fbc41\"],[0.9,\"#4d9221\"],[1,\"#276419\"]]},\"xaxis\":{\"gridcolor\":\"white\",\"linecolor\":\"white\",\"ticks\":\"\",\"title\":{\"standoff\":15},\"zerolinecolor\":\"white\",\"automargin\":true,\"zerolinewidth\":2},\"yaxis\":{\"gridcolor\":\"white\",\"linecolor\":\"white\",\"ticks\":\"\",\"title\":{\"standoff\":15},\"zerolinecolor\":\"white\",\"automargin\":true,\"zerolinewidth\":2},\"scene\":{\"xaxis\":{\"backgroundcolor\":\"#E5ECF6\",\"gridcolor\":\"white\",\"linecolor\":\"white\",\"showbackground\":true,\"ticks\":\"\",\"zerolinecolor\":\"white\",\"gridwidth\":2},\"yaxis\":{\"backgroundcolor\":\"#E5ECF6\",\"gridcolor\":\"white\",\"linecolor\":\"white\",\"showbackground\":true,\"ticks\":\"\",\"zerolinecolor\":\"white\",\"gridwidth\":2},\"zaxis\":{\"backgroundcolor\":\"#E5ECF6\",\"gridcolor\":\"white\",\"linecolor\":\"white\",\"showbackground\":true,\"ticks\":\"\",\"zerolinecolor\":\"white\",\"gridwidth\":2}},\"shapedefaults\":{\"line\":{\"color\":\"#2a3f5f\"}},\"annotationdefaults\":{\"arrowcolor\":\"#2a3f5f\",\"arrowhead\":0,\"arrowwidth\":1},\"geo\":{\"bgcolor\":\"white\",\"landcolor\":\"#E5ECF6\",\"subunitcolor\":\"white\",\"showland\":true,\"showlakes\":true,\"lakecolor\":\"white\"},\"title\":{\"x\":0.05},\"mapbox\":{\"style\":\"light\"}}},\"legend\":{\"x\":0,\"y\":1,\"traceorder\":\"normal\"},\"title\":{\"text\":\"Actual vs Predicted Close Prices\"},\"xaxis\":{\"title\":{\"text\":\"Date\"}},\"yaxis\":{\"title\":{\"text\":\"Close Price\"}},\"height\":600,\"width\":1000},                        {\"responsive\": true}                    ).then(function(){\n",
              "                            \n",
              "var gd = document.getElementById('bbab8a31-453d-4c3b-b957-3476e7bf6e14');\n",
              "var x = new MutationObserver(function (mutations, observer) {{\n",
              "        var display = window.getComputedStyle(gd).display;\n",
              "        if (!display || display === 'none') {{\n",
              "            console.log([gd, 'removed!']);\n",
              "            Plotly.purge(gd);\n",
              "            observer.disconnect();\n",
              "        }}\n",
              "}});\n",
              "\n",
              "// Listen for the removal of the full notebook cells\n",
              "var notebookContainer = gd.closest('#notebook-container');\n",
              "if (notebookContainer) {{\n",
              "    x.observe(notebookContainer, {childList: true});\n",
              "}}\n",
              "\n",
              "// Listen for the clearing of the current output cell\n",
              "var outputEl = gd.closest('.output');\n",
              "if (outputEl) {{\n",
              "    x.observe(outputEl, {childList: true});\n",
              "}}\n",
              "\n",
              "                        })                };                            </script>        </div>\n",
              "</body>\n",
              "</html>"
            ]
          },
          "metadata": {}
        },
        {
          "output_type": "stream",
          "name": "stdout",
          "text": [
            "Predicted Close Price for the next day: 3180.541068731507\n"
          ]
        },
        {
          "output_type": "stream",
          "name": "stderr",
          "text": [
            "/usr/local/lib/python3.10/dist-packages/sklearn/base.py:439: UserWarning:\n",
            "\n",
            "X does not have valid feature names, but LassoCV was fitted with feature names\n",
            "\n"
          ]
        }
      ]
    },
    {
      "cell_type": "markdown",
      "source": [
        "# **Step 10: Predict the Next Day's Price**"
      ],
      "metadata": {
        "id": "--NDULFLUADZ"
      }
    },
    {
      "cell_type": "code",
      "source": [
        "# Prepare the input data for the next day prediction\n",
        "last_known_data = X_rf.iloc[-1].values.reshape(1, -1)\n",
        "\n",
        "# Predict the next day's price\n",
        "next_day_prediction = lasso_cv_model.predict(last_known_data)\n",
        "\n",
        "# Print the predicted price for the next day\n",
        "print(f'Predicted Close Price for the next day: {next_day_prediction[0]}')\n"
      ],
      "metadata": {
        "colab": {
          "base_uri": "https://localhost:8080/"
        },
        "id": "dlSEmiKEGyxk",
        "outputId": "82c2eee5-2def-46b2-ce6f-96a3ffdf2c39"
      },
      "execution_count": 130,
      "outputs": [
        {
          "output_type": "stream",
          "name": "stdout",
          "text": [
            "Predicted Close Price for the next day: 3180.541068731507\n"
          ]
        },
        {
          "output_type": "stream",
          "name": "stderr",
          "text": [
            "/usr/local/lib/python3.10/dist-packages/sklearn/base.py:439: UserWarning:\n",
            "\n",
            "X does not have valid feature names, but LassoCV was fitted with feature names\n",
            "\n"
          ]
        }
      ]
    },
    {
      "cell_type": "markdown",
      "source": [
        "# **Other Models Tried**"
      ],
      "metadata": {
        "id": "0WOyDY_FUvrt"
      }
    },
    {
      "cell_type": "code",
      "source": [
        "from sklearn.model_selection import GridSearchCV\n",
        "from sklearn.linear_model import Lasso\n",
        "\n",
        "# Define the parameter grid\n",
        "param_grid = {\n",
        "    'alpha': np.logspace(-4, 0, 50)\n",
        "}\n",
        "\n",
        "# Define the model\n",
        "lasso = Lasso()\n",
        "\n",
        "# Perform grid search with cross-validation\n",
        "grid_search = GridSearchCV(estimator=lasso, param_grid=param_grid, cv=5, scoring='neg_mean_squared_error', n_jobs=-1, verbose=2)\n",
        "grid_search.fit(X_rf_train, y_rf_train)\n",
        "\n",
        "# Get the best parameters and the best model\n",
        "best_params = grid_search.best_params_\n",
        "best_model = grid_search.best_estimator_\n",
        "\n",
        "# Predicting with the best model\n",
        "train_predict = best_model.predict(X_rf_train)\n",
        "test_predict = best_model.predict(X_rf_test)\n",
        "\n",
        "# Calculate RMSE for the best model\n",
        "train_rmse = np.sqrt(mean_squared_error(y_rf_train, train_predict))\n",
        "test_rmse = np.sqrt(mean_squared_error(y_rf_test, test_predict))\n",
        "print(f'Best Lasso Train RMSE: {train_rmse}')\n",
        "print(f'Best Lasso Test RMSE: {test_rmse}')\n",
        "print(f'Best Lasso Parameters: {best_params}')\n",
        "\n",
        "# Cross-validation scores with the best model\n",
        "cv_scores = cross_val_score(best_model, X_rf, y_rf, cv=5, scoring='neg_mean_squared_error')\n",
        "cv_rmse_scores = np.sqrt(-cv_scores)\n",
        "print(f'Best Model Cross-Validation RMSE Scores: {cv_rmse_scores}')\n",
        "print(f'Mean Cross-Validation RMSE: {cv_rmse_scores.mean()}')\n"
      ],
      "metadata": {
        "colab": {
          "base_uri": "https://localhost:8080/"
        },
        "id": "RmiIReW-LgJT",
        "outputId": "e804356d-1487-402b-f32f-704e8d582979"
      },
      "execution_count": 54,
      "outputs": [
        {
          "output_type": "stream",
          "name": "stdout",
          "text": [
            "Fitting 5 folds for each of 50 candidates, totalling 250 fits\n"
          ]
        },
        {
          "output_type": "stream",
          "name": "stderr",
          "text": [
            "/usr/local/lib/python3.10/dist-packages/joblib/externals/loky/backend/fork_exec.py:38: RuntimeWarning:\n",
            "\n",
            "os.fork() was called. os.fork() is incompatible with multithreaded code, and JAX is multithreaded, so this will likely lead to a deadlock.\n",
            "\n"
          ]
        },
        {
          "output_type": "stream",
          "name": "stdout",
          "text": [
            "Best Lasso Train RMSE: 0.01054170122701785\n",
            "Best Lasso Test RMSE: 0.0046423186086651325\n",
            "Best Lasso Parameters: {'alpha': 0.18420699693267145}\n",
            "Best Model Cross-Validation RMSE Scores: [0.1409513  0.07309459 0.06906372 0.4766918  0.00792026]\n",
            "Mean Cross-Validation RMSE: 0.15354433229976877\n"
          ]
        }
      ]
    },
    {
      "cell_type": "code",
      "source": [
        "from sklearn.feature_selection import RFE\n",
        "from sklearn.linear_model import Lasso\n",
        "\n",
        "# Define the model\n",
        "lasso = Lasso(alpha=0.01)\n",
        "\n",
        "# Define RFE with the model\n",
        "rfe = RFE(estimator=lasso, n_features_to_select=10)\n",
        "\n",
        "# Fit RFE\n",
        "rfe.fit(X_rf_train, y_rf_train)\n",
        "\n",
        "# Transform the data\n",
        "X_rf_train_rfe = rfe.transform(X_rf_train)\n",
        "X_rf_test_rfe = rfe.transform(X_rf_test)\n",
        "\n",
        "# Fit the model with selected features\n",
        "lasso.fit(X_rf_train_rfe, y_rf_train)\n",
        "\n",
        "# Predicting\n",
        "train_predict_rfe = lasso.predict(X_rf_train_rfe)\n",
        "test_predict_rfe = lasso.predict(X_rf_test_rfe)\n",
        "\n",
        "# Calculate RMSE for the model with selected features\n",
        "train_rmse_rfe = np.sqrt(mean_squared_error(y_rf_train, train_predict_rfe))\n",
        "test_rmse_rfe = np.sqrt(mean_squared_error(y_rf_test, test_predict_rfe))\n",
        "print(f'Lasso with RFE Train RMSE: {train_rmse_rfe}')\n",
        "print(f'Lasso with RFE Test RMSE: {test_rmse_rfe}')\n"
      ],
      "metadata": {
        "colab": {
          "base_uri": "https://localhost:8080/"
        },
        "id": "gXvjyLMvMtIP",
        "outputId": "1680077b-a381-445b-f769-825e731bbaa3"
      },
      "execution_count": 55,
      "outputs": [
        {
          "output_type": "stream",
          "name": "stdout",
          "text": [
            "Lasso with RFE Train RMSE: 0.02835834556568483\n",
            "Lasso with RFE Test RMSE: 0.05832956639426275\n"
          ]
        }
      ]
    },
    {
      "cell_type": "code",
      "source": [
        "from sklearn.model_selection import RandomizedSearchCV\n",
        "from sklearn.linear_model import Lasso\n",
        "\n",
        "# Define the parameter distribution\n",
        "param_dist = {\n",
        "    'alpha': np.logspace(-4, 0, 100)\n",
        "}\n",
        "\n",
        "# Define the model\n",
        "lasso = Lasso()\n",
        "\n",
        "# Perform randomized search with cross-validation\n",
        "random_search = RandomizedSearchCV(estimator=lasso, param_distributions=param_dist, n_iter=100, cv=5, scoring='neg_mean_squared_error', n_jobs=-1, verbose=2)\n",
        "random_search.fit(X_rf_train, y_rf_train)\n",
        "\n",
        "# Get the best parameters and the best model\n",
        "best_params_random = random_search.best_params_\n",
        "best_model_random = random_search.best_estimator_\n",
        "\n",
        "# Predicting with the best model\n",
        "train_predict_random = best_model_random.predict(X_rf_train)\n",
        "test_predict_random = best_model_random.predict(X_rf_test)\n",
        "\n",
        "# Calculate RMSE for the best model\n",
        "train_rmse_random = np.sqrt(mean_squared_error(y_rf_train, train_predict_random))\n",
        "test_rmse_random = np.sqrt(mean_squared_error(y_rf_test, test_predict_random))\n",
        "print(f'Best Randomized Lasso Train RMSE: {train_rmse_random}')\n",
        "print(f'Best Randomized Lasso Test RMSE: {test_rmse_random}')\n",
        "print(f'Best Randomized Lasso Parameters: {best_params_random}')\n",
        "\n",
        "# Cross-validation scores with the best model\n",
        "cv_scores_random = cross_val_score(best_model_random, X_rf, y_rf, cv=5, scoring='neg_mean_squared_error')\n",
        "cv_rmse_scores_random = np.sqrt(-cv_scores_random)\n",
        "print(f'Best Randomized Model Cross-Validation RMSE Scores: {cv_rmse_scores_random}')\n",
        "print(f'Mean Cross-Validation RMSE: {cv_rmse_scores_random.mean()}')\n"
      ],
      "metadata": {
        "colab": {
          "base_uri": "https://localhost:8080/"
        },
        "id": "ZPHUmMcWMxKO",
        "outputId": "b63edff7-9b68-48ae-956c-768f6fc56f6c"
      },
      "execution_count": 56,
      "outputs": [
        {
          "output_type": "stream",
          "name": "stdout",
          "text": [
            "Fitting 5 folds for each of 100 candidates, totalling 500 fits\n",
            "Best Randomized Lasso Train RMSE: 0.006490682959976583\n",
            "Best Randomized Lasso Test RMSE: 0.007701138897556435\n",
            "Best Randomized Lasso Parameters: {'alpha': 0.20565123083486536}\n",
            "Best Randomized Model Cross-Validation RMSE Scores: [0.13773482 0.07028626 0.06655826 0.45166577 0.00256002]\n",
            "Mean Cross-Validation RMSE: 0.14576102536197005\n"
          ]
        }
      ]
    },
    {
      "cell_type": "code",
      "source": [
        "from sklearn.linear_model import ElasticNet\n",
        "from sklearn.model_selection import RandomizedSearchCV\n",
        "\n",
        "# Define the parameter distribution\n",
        "param_dist = {\n",
        "    'alpha': np.logspace(-4, 0, 100),\n",
        "    'l1_ratio': [0.1, 0.5, 0.7, 0.9, 0.95, 0.99, 1]  # Mixing parameter for ElasticNet\n",
        "}\n",
        "\n",
        "# Define the model\n",
        "elastic_net = ElasticNet()\n",
        "\n",
        "# Perform randomized search with cross-validation\n",
        "random_search_en = RandomizedSearchCV(estimator=elastic_net, param_distributions=param_dist, n_iter=100, cv=5, scoring='neg_mean_squared_error', n_jobs=-1, verbose=2)\n",
        "random_search_en.fit(X_rf_train, y_rf_train)\n",
        "\n",
        "# Get the best parameters and the best model\n",
        "best_params_en = random_search_en.best_params_\n",
        "best_model_en = random_search_en.best_estimator_\n",
        "\n",
        "# Predicting with the best model\n",
        "train_predict_en = best_model_en.predict(X_rf_train)\n",
        "test_predict_en = best_model_en.predict(X_rf_test)\n",
        "\n",
        "# Calculate RMSE for the best model\n",
        "train_rmse_en = np.sqrt(mean_squared_error(y_rf_train, train_predict_en))\n",
        "test_rmse_en = np.sqrt(mean_squared_error(y_rf_test, test_predict_en))\n",
        "print(f'Best Elastic Net Train RMSE: {train_rmse_en}')\n",
        "print(f'Best Elastic Net Test RMSE: {test_rmse_en}')\n",
        "print(f'Best Elastic Net Parameters: {best_params_en}')\n",
        "\n",
        "# Cross-validation scores with the best model\n",
        "cv_scores_en = cross_val_score(best_model_en, X_rf, y_rf, cv=5, scoring='neg_mean_squared_error')\n",
        "cv_rmse_scores_en = np.sqrt(-cv_scores_en)\n",
        "print(f'Best Elastic Net Cross-Validation RMSE Scores: {cv_rmse_scores_en}')\n",
        "print(f'Mean Cross-Validation RMSE: {cv_rmse_scores_en.mean()}')\n"
      ],
      "metadata": {
        "colab": {
          "base_uri": "https://localhost:8080/"
        },
        "id": "X7vG9TLPNAsP",
        "outputId": "11514b5b-43d4-44ba-bef5-5b2b53bdff16"
      },
      "execution_count": 57,
      "outputs": [
        {
          "output_type": "stream",
          "name": "stdout",
          "text": [
            "Fitting 5 folds for each of 100 candidates, totalling 500 fits\n",
            "Best Elastic Net Train RMSE: 6.423927999417644e-05\n",
            "Best Elastic Net Test RMSE: 0.0001277617811756275\n",
            "Best Elastic Net Parameters: {'l1_ratio': 0.1, 'alpha': 0.00010974987654930556}\n",
            "Best Elastic Net Cross-Validation RMSE Scores: [0.00468178 0.0023596  0.00294712 0.22550815 0.00025078]\n",
            "Mean Cross-Validation RMSE: 0.04714948597073309\n"
          ]
        }
      ]
    },
    {
      "cell_type": "code",
      "source": [
        "from sklearn.preprocessing import RobustScaler\n",
        "from sklearn.linear_model import ElasticNet\n",
        "from sklearn.model_selection import RandomizedSearchCV\n",
        "\n",
        "# Apply robust scaling to handle outliers\n",
        "scaler = RobustScaler()\n",
        "X_rf_scaled = scaler.fit_transform(X_rf)\n",
        "\n",
        "# Train-test split with scaled data\n",
        "X_rf_train_scaled, X_rf_test_scaled = X_rf_scaled[:train_size], X_rf_scaled[train_size:]\n",
        "\n",
        "# Define the parameter distribution for Elastic Net\n",
        "param_dist = {\n",
        "    'alpha': np.logspace(-4, 0, 100),\n",
        "    'l1_ratio': [0.1, 0.5, 0.7, 0.9, 0.95, 0.99, 1]  # Mixing parameter for ElasticNet\n",
        "}\n",
        "\n",
        "# Define the Elastic Net model\n",
        "elastic_net = ElasticNet()\n",
        "\n",
        "# Perform randomized search with cross-validation\n",
        "random_search_en = RandomizedSearchCV(estimator=elastic_net, param_distributions=param_dist, n_iter=100, cv=5, scoring='neg_mean_squared_error', n_jobs=-1, verbose=2)\n",
        "random_search_en.fit(X_rf_train_scaled, y_rf_train)\n",
        "\n",
        "# Get the best parameters and the best model\n",
        "best_params_en = random_search_en.best_params_\n",
        "best_model_en = random_search_en.best_estimator_\n",
        "\n",
        "# Predicting with the best model\n",
        "train_predict_en = best_model_en.predict(X_rf_train_scaled)\n",
        "test_predict_en = best_model_en.predict(X_rf_test_scaled)\n",
        "\n",
        "# Calculate RMSE for the best model\n",
        "train_rmse_en = np.sqrt(mean_squared_error(y_rf_train, train_predict_en))\n",
        "test_rmse_en = np.sqrt(mean_squared_error(y_rf_test, test_predict_en))\n",
        "print(f'Best Elastic Net Train RMSE: {train_rmse_en}')\n",
        "print(f'Best Elastic Net Test RMSE: {test_rmse_en}')\n",
        "print(f'Best Elastic Net Parameters: {best_params_en}')\n",
        "\n",
        "# Cross-validation scores with the best model\n",
        "cv_scores_en = cross_val_score(best_model_en, X_rf_scaled, y_rf, cv=5, scoring='neg_mean_squared_error')\n",
        "cv_rmse_scores_en = np.sqrt(-cv_scores_en)\n",
        "print(f'Best Elastic Net Cross-Validation RMSE Scores: {cv_rmse_scores_en}')\n",
        "print(f'Mean Cross-Validation RMSE: {cv_rmse_scores_en.mean()}')\n"
      ],
      "metadata": {
        "colab": {
          "base_uri": "https://localhost:8080/"
        },
        "id": "sDMyKtJENSH0",
        "outputId": "c126a4f4-d049-45a7-a35c-326fd44ddac6"
      },
      "execution_count": 58,
      "outputs": [
        {
          "output_type": "stream",
          "name": "stdout",
          "text": [
            "Fitting 5 folds for each of 100 candidates, totalling 500 fits\n",
            "Best Elastic Net Train RMSE: 0.01054788019717271\n",
            "Best Elastic Net Test RMSE: 0.006940254077723218\n",
            "Best Elastic Net Parameters: {'l1_ratio': 1, 'alpha': 0.002595024211399737}\n",
            "Best Elastic Net Cross-Validation RMSE Scores: [0.1357207  0.08937876 0.08208656 0.65526433 0.0056134 ]\n",
            "Mean Cross-Validation RMSE: 0.19361275172998227\n"
          ]
        }
      ]
    },
    {
      "cell_type": "markdown",
      "source": [
        "# **LSTM Model**"
      ],
      "metadata": {
        "id": "F5-yWV2rkK1d"
      }
    },
    {
      "cell_type": "code",
      "source": [
        "import pandas as pd\n",
        "import numpy as np\n",
        "import yfinance as yf\n",
        "from sklearn.preprocessing import MinMaxScaler\n",
        "import matplotlib.pyplot as plt\n",
        "from keras.models import Sequential\n",
        "from keras.layers import Dense, LSTM\n",
        "\n",
        "# Load historical stock prices\n",
        "stock_data = yf.download('RELIANCE.NS', start='2023-07-11', end='2024-07-11')\n",
        "stock_data.to_csv('historical_prices.csv')\n",
        "\n",
        "# Prepare the data\n",
        "data = stock_data['Close'].values.reshape(-1, 1)\n",
        "scaler = MinMaxScaler(feature_range=(0, 1))\n",
        "scaled_data = scaler.fit_transform(data)\n",
        "\n",
        "# Create sequences\n",
        "def create_sequences(data, seq_length):\n",
        "    X = []\n",
        "    y = []\n",
        "    for i in range(seq_length, len(data)):\n",
        "        X.append(data[i-seq_length:i, 0])\n",
        "        y.append(data[i, 0])\n",
        "    return np.array(X), np.array(y)\n",
        "\n",
        "seq_length = 60\n",
        "X, y = create_sequences(scaled_data, seq_length)\n",
        "\n",
        "# Split the data into training and testing sets\n",
        "train_size = int(len(X) * 0.8)\n",
        "X_train, X_test = X[:train_size], X[train_size:]\n",
        "y_train, y_test = y[:train_size], y[train_size:]\n",
        "\n",
        "# Check shapes\n",
        "print(f\"X_train shape: {X_train.shape}\")\n",
        "print(f\"X_test shape: {X_test.shape}\")\n",
        "print(f\"y_train shape: {y_train.shape}\")\n",
        "print(f\"y_test shape: {y_test.shape}\")\n",
        "\n",
        "# Ensure we have sufficient data points\n",
        "if X_train.size == 0 or X_test.size == 0:\n",
        "    raise ValueError(\"Training or testing data is empty. Please check the data and sequence length.\")\n",
        "\n",
        "# Reshape for LSTM\n",
        "X_train = X_train.reshape(X_train.shape[0], X_train.shape[1], 1)\n",
        "X_test = X_test.reshape(X_test.shape[0], X_test.shape[1], 1)\n",
        "\n",
        "# Define the LSTM model\n",
        "model = Sequential()\n",
        "model.add(LSTM(units=50, return_sequences=True, input_shape=(seq_length, 1)))\n",
        "model.add(LSTM(units=50))\n",
        "model.add(Dense(1))\n",
        "\n",
        "model.compile(optimizer='adam', loss='mean_squared_error')\n",
        "model.fit(X_train, y_train, epochs=25, batch_size=32)\n",
        "\n",
        "# Make predictions\n",
        "predicted_stock_price = model.predict(X_test)\n",
        "predicted_stock_price = scaler.inverse_transform(predicted_stock_price)\n",
        "\n",
        "# Plot the results\n",
        "plt.figure(figsize=(14, 5))\n",
        "plt.plot(data[seq_length:], color='blue', label='Actual Stock Price')\n",
        "plt.plot(range(seq_length, seq_length + len(predicted_stock_price)), predicted_stock_price, color='red', label='Predicted Stock Price')\n",
        "plt.title('Stock Price Prediction')\n",
        "plt.xlabel('Time')\n",
        "plt.ylabel('Stock Price')\n",
        "plt.legend()\n",
        "plt.show()\n",
        "\n",
        "# Predicting the next day\n",
        "last_sequence = scaled_data[-seq_length:]\n",
        "last_sequence = last_sequence.reshape(1, seq_length, 1)\n",
        "next_day_prediction = model.predict(last_sequence)\n",
        "next_day_prediction = scaler.inverse_transform(next_day_prediction)\n",
        "print(f'Predicted Close Price for the next day: {next_day_prediction[0, 0]}')\n",
        "\n",
        "# Predicting the next week (7 days)\n",
        "predictions = []\n",
        "current_sequence = last_sequence\n",
        "for _ in range(7):\n",
        "    next_pred = model.predict(current_sequence)\n",
        "    predictions.append(next_pred[0, 0])\n",
        "    current_sequence = np.append(current_sequence[:, 1:, :], np.reshape(next_pred, (1, 1, 1)), axis=1)\n",
        "\n",
        "predictions = scaler.inverse_transform(np.array(predictions).reshape(-1, 1))\n",
        "print(f'Predicted Close Prices for the next week: {predictions.flatten()}')\n"
      ],
      "metadata": {
        "colab": {
          "base_uri": "https://localhost:8080/",
          "height": 1000
        },
        "id": "RHLCJ1QDhTdP",
        "outputId": "700c7291-9974-4021-8c75-3d493c163873"
      },
      "execution_count": 136,
      "outputs": [
        {
          "output_type": "stream",
          "name": "stderr",
          "text": [
            "\r[*********************100%%**********************]  1 of 1 completed\n"
          ]
        },
        {
          "output_type": "stream",
          "name": "stdout",
          "text": [
            "X_train shape: (148, 60)\n",
            "X_test shape: (37, 60)\n",
            "y_train shape: (148,)\n",
            "y_test shape: (37,)\n",
            "Epoch 1/25\n",
            "5/5 [==============================] - 5s 80ms/step - loss: 0.1500\n",
            "Epoch 2/25\n",
            "5/5 [==============================] - 0s 82ms/step - loss: 0.0267\n",
            "Epoch 3/25\n",
            "5/5 [==============================] - 0s 82ms/step - loss: 0.0128\n",
            "Epoch 4/25\n",
            "5/5 [==============================] - 0s 85ms/step - loss: 0.0155\n",
            "Epoch 5/25\n",
            "5/5 [==============================] - 0s 85ms/step - loss: 0.0108\n",
            "Epoch 6/25\n",
            "5/5 [==============================] - 0s 90ms/step - loss: 0.0069\n",
            "Epoch 7/25\n",
            "5/5 [==============================] - 0s 49ms/step - loss: 0.0074\n",
            "Epoch 8/25\n",
            "5/5 [==============================] - 0s 48ms/step - loss: 0.0050\n",
            "Epoch 9/25\n",
            "5/5 [==============================] - 0s 48ms/step - loss: 0.0055\n",
            "Epoch 10/25\n",
            "5/5 [==============================] - 0s 54ms/step - loss: 0.0046\n",
            "Epoch 11/25\n",
            "5/5 [==============================] - 0s 51ms/step - loss: 0.0044\n",
            "Epoch 12/25\n",
            "5/5 [==============================] - 0s 47ms/step - loss: 0.0041\n",
            "Epoch 13/25\n",
            "5/5 [==============================] - 0s 49ms/step - loss: 0.0041\n",
            "Epoch 14/25\n",
            "5/5 [==============================] - 0s 58ms/step - loss: 0.0039\n",
            "Epoch 15/25\n",
            "5/5 [==============================] - 0s 49ms/step - loss: 0.0039\n",
            "Epoch 16/25\n",
            "5/5 [==============================] - 0s 46ms/step - loss: 0.0038\n",
            "Epoch 17/25\n",
            "5/5 [==============================] - 0s 47ms/step - loss: 0.0037\n",
            "Epoch 18/25\n",
            "5/5 [==============================] - 0s 52ms/step - loss: 0.0036\n",
            "Epoch 19/25\n",
            "5/5 [==============================] - 0s 46ms/step - loss: 0.0035\n",
            "Epoch 20/25\n",
            "5/5 [==============================] - 0s 48ms/step - loss: 0.0034\n",
            "Epoch 21/25\n",
            "5/5 [==============================] - 0s 49ms/step - loss: 0.0033\n",
            "Epoch 22/25\n",
            "5/5 [==============================] - 0s 54ms/step - loss: 0.0033\n",
            "Epoch 23/25\n",
            "5/5 [==============================] - 0s 46ms/step - loss: 0.0032\n",
            "Epoch 24/25\n",
            "5/5 [==============================] - 0s 47ms/step - loss: 0.0031\n",
            "Epoch 25/25\n",
            "5/5 [==============================] - 0s 48ms/step - loss: 0.0029\n",
            "2/2 [==============================] - 1s 13ms/step\n"
          ]
        },
        {
          "output_type": "display_data",
          "data": {
            "text/plain": [
              "<Figure size 1400x500 with 1 Axes>"
            ],
            "image/png": "[encoded data removed]"
          },
          "metadata": {}
        },
        {
          "output_type": "stream",
          "name": "stdout",
          "text": [
            "1/1 [==============================] - 0s 25ms/step\n",
            "Predicted Close Price for the next day: 3075.5595703125\n",
            "1/1 [==============================] - 0s 25ms/step\n",
            "1/1 [==============================] - 0s 25ms/step\n",
            "1/1 [==============================] - 0s 27ms/step\n",
            "1/1 [==============================] - 0s 34ms/step\n",
            "1/1 [==============================] - 0s 26ms/step\n",
            "1/1 [==============================] - 0s 25ms/step\n",
            "1/1 [==============================] - 0s 27ms/step\n",
            "Predicted Close Prices for the next week: [3075.5596 3084.3003 3088.919  3090.4238 3089.6204 3087.144  3083.482 ]\n"
          ]
        }
      ]
    },
    {
      "cell_type": "code",
      "source": [
        "from sklearn.metrics import mean_squared_error, mean_absolute_error, r2_score\n",
        "\n",
        "# Calculate metrics for training data\n",
        "train_predictions = model.predict(X_train)\n",
        "train_predictions = scaler.inverse_transform(train_predictions)\n",
        "y_train_scaled = scaler.inverse_transform(y_train.reshape(-1, 1))\n",
        "\n",
        "train_mae = mean_absolute_error(y_train_scaled, train_predictions)\n",
        "train_mse = mean_squared_error(y_train_scaled, train_predictions)\n",
        "train_r2 = r2_score(y_train_scaled, train_predictions)\n",
        "\n",
        "print(f'Training MAE: {train_mae}')\n",
        "print(f'Training MSE: {train_mse}')\n",
        "print(f'Training R²: {train_r2}')\n",
        "\n",
        "# Calculate metrics for testing data\n",
        "test_predictions = model.predict(X_test)\n",
        "test_predictions = scaler.inverse_transform(test_predictions)\n",
        "y_test_scaled = scaler.inverse_transform(y_test.reshape(-1, 1))\n",
        "\n",
        "test_mae = mean_absolute_error(y_test_scaled, test_predictions)\n",
        "test_mse = mean_squared_error(y_test_scaled, test_predictions)\n",
        "test_r2 = r2_score(y_test_scaled, test_predictions)\n",
        "\n",
        "print(f'Testing MAE: {test_mae}')\n",
        "print(f'Testing MSE: {test_mse}')\n",
        "print(f'Testing R²: {test_r2}')\n"
      ],
      "metadata": {
        "colab": {
          "base_uri": "https://localhost:8080/"
        },
        "id": "qSlVzWD6iUJ3",
        "outputId": "d1358a9e-6a3e-4042-f695-d0fe60834275"
      },
      "execution_count": 139,
      "outputs": [
        {
          "output_type": "stream",
          "name": "stdout",
          "text": [
            "5/5 [==============================] - 0s 22ms/step\n",
            "Training MAE: 40.82401914854307\n",
            "Training MSE: 2777.8853730692254\n",
            "Training R²: 0.9569045282036689\n",
            "2/2 [==============================] - 0s 18ms/step\n",
            "Testing MAE: 78.60676863386824\n",
            "Testing MSE: 9345.799793995715\n",
            "Testing R²: 0.23372958384582676\n"
          ]
        }
      ]
    }
  ]
}